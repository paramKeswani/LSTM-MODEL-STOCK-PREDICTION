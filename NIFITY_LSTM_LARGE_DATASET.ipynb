{
  "nbformat": 4,
  "nbformat_minor": 0,
  "metadata": {
    "colab": {
      "provenance": [],
      "authorship_tag": "ABX9TyNKrGNK4XL7q90yd3xP033T",
      "include_colab_link": true
    },
    "kernelspec": {
      "name": "python3",
      "display_name": "Python 3"
    },
    "language_info": {
      "name": "python"
    }
  },
  "cells": [
    {
      "cell_type": "markdown",
      "metadata": {
        "id": "view-in-github",
        "colab_type": "text"
      },
      "source": [
        "<a href=\"https://colab.research.google.com/github/paramKeswani/LSTM-MODEL-STOCK-PREDICTION/blob/main/NIFITY_LSTM_LARGE_DATASET.ipynb\" target=\"_parent\"><img src=\"https://colab.research.google.com/assets/colab-badge.svg\" alt=\"Open In Colab\"/></a>"
      ]
    },
    {
      "cell_type": "markdown",
      "source": [
        "### Stock Market Prediction And Forecasting Using Stacked LSTM\n"
      ],
      "metadata": {
        "id": "RTINqM9xngwc"
      }
    },
    {
      "cell_type": "code",
      "source": [
        "import pandas as pd\n",
        "import numpy as np\n",
        "from sklearn import metrics\n",
        "%matplotlib inline\n",
        "import matplotlib.pyplot as plt"
      ],
      "metadata": {
        "id": "qYSkRzOLZj_-"
      },
      "execution_count": null,
      "outputs": []
    },
    {
      "cell_type": "code",
      "source": [
        "import pandas as pd"
      ],
      "metadata": {
        "id": "1XcMQAlhnrbs"
      },
      "execution_count": null,
      "outputs": []
    },
    {
      "cell_type": "code",
      "source": [
        "df=pd.read_csv('/Nifty2.csv')"
      ],
      "metadata": {
        "id": "odNX5Nj_n48V"
      },
      "execution_count": null,
      "outputs": []
    },
    {
      "cell_type": "code",
      "source": [
        "df.head()"
      ],
      "metadata": {
        "colab": {
          "base_uri": "https://localhost:8080/",
          "height": 206
        },
        "id": "g6fHUw6Tn--E",
        "outputId": "2b5f6d40-2d15-4599-cc3b-88c433e2378e"
      },
      "execution_count": null,
      "outputs": [
        {
          "output_type": "execute_result",
          "data": {
            "text/plain": [
              "         Date         HDFC          HUL  TATA STEEL     RELIANCE       NIFITY\n",
              "0  30-07-2018  1416.849976  1688.699951   55.299999  1140.588379  11319.54981\n",
              "1  31-07-2018  1434.199951  1731.650024   56.305000  1174.863525  11356.50000\n",
              "2  01-08-2018  1446.150024  1734.300049   55.580002  1181.153809  11346.20020\n",
              "3  02-08-2018  1430.250000  1748.500000   55.430000  1157.379150  11244.70020\n",
              "4  03-08-2018  1433.599976  1763.000000   55.445000  1165.898438  11360.79981"
            ],
            "text/html": [
              "\n",
              "\n",
              "  <div id=\"df-b6dfb133-fef8-46dc-b371-df95ce51b836\">\n",
              "    <div class=\"colab-df-container\">\n",
              "      <div>\n",
              "<style scoped>\n",
              "    .dataframe tbody tr th:only-of-type {\n",
              "        vertical-align: middle;\n",
              "    }\n",
              "\n",
              "    .dataframe tbody tr th {\n",
              "        vertical-align: top;\n",
              "    }\n",
              "\n",
              "    .dataframe thead th {\n",
              "        text-align: right;\n",
              "    }\n",
              "</style>\n",
              "<table border=\"1\" class=\"dataframe\">\n",
              "  <thead>\n",
              "    <tr style=\"text-align: right;\">\n",
              "      <th></th>\n",
              "      <th>Date</th>\n",
              "      <th>HDFC</th>\n",
              "      <th>HUL</th>\n",
              "      <th>TATA STEEL</th>\n",
              "      <th>RELIANCE</th>\n",
              "      <th>NIFITY</th>\n",
              "    </tr>\n",
              "  </thead>\n",
              "  <tbody>\n",
              "    <tr>\n",
              "      <th>0</th>\n",
              "      <td>30-07-2018</td>\n",
              "      <td>1416.849976</td>\n",
              "      <td>1688.699951</td>\n",
              "      <td>55.299999</td>\n",
              "      <td>1140.588379</td>\n",
              "      <td>11319.54981</td>\n",
              "    </tr>\n",
              "    <tr>\n",
              "      <th>1</th>\n",
              "      <td>31-07-2018</td>\n",
              "      <td>1434.199951</td>\n",
              "      <td>1731.650024</td>\n",
              "      <td>56.305000</td>\n",
              "      <td>1174.863525</td>\n",
              "      <td>11356.50000</td>\n",
              "    </tr>\n",
              "    <tr>\n",
              "      <th>2</th>\n",
              "      <td>01-08-2018</td>\n",
              "      <td>1446.150024</td>\n",
              "      <td>1734.300049</td>\n",
              "      <td>55.580002</td>\n",
              "      <td>1181.153809</td>\n",
              "      <td>11346.20020</td>\n",
              "    </tr>\n",
              "    <tr>\n",
              "      <th>3</th>\n",
              "      <td>02-08-2018</td>\n",
              "      <td>1430.250000</td>\n",
              "      <td>1748.500000</td>\n",
              "      <td>55.430000</td>\n",
              "      <td>1157.379150</td>\n",
              "      <td>11244.70020</td>\n",
              "    </tr>\n",
              "    <tr>\n",
              "      <th>4</th>\n",
              "      <td>03-08-2018</td>\n",
              "      <td>1433.599976</td>\n",
              "      <td>1763.000000</td>\n",
              "      <td>55.445000</td>\n",
              "      <td>1165.898438</td>\n",
              "      <td>11360.79981</td>\n",
              "    </tr>\n",
              "  </tbody>\n",
              "</table>\n",
              "</div>\n",
              "      <button class=\"colab-df-convert\" onclick=\"convertToInteractive('df-b6dfb133-fef8-46dc-b371-df95ce51b836')\"\n",
              "              title=\"Convert this dataframe to an interactive table.\"\n",
              "              style=\"display:none;\">\n",
              "\n",
              "  <svg xmlns=\"http://www.w3.org/2000/svg\" height=\"24px\"viewBox=\"0 0 24 24\"\n",
              "       width=\"24px\">\n",
              "    <path d=\"M0 0h24v24H0V0z\" fill=\"none\"/>\n",
              "    <path d=\"M18.56 5.44l.94 2.06.94-2.06 2.06-.94-2.06-.94-.94-2.06-.94 2.06-2.06.94zm-11 1L8.5 8.5l.94-2.06 2.06-.94-2.06-.94L8.5 2.5l-.94 2.06-2.06.94zm10 10l.94 2.06.94-2.06 2.06-.94-2.06-.94-.94-2.06-.94 2.06-2.06.94z\"/><path d=\"M17.41 7.96l-1.37-1.37c-.4-.4-.92-.59-1.43-.59-.52 0-1.04.2-1.43.59L10.3 9.45l-7.72 7.72c-.78.78-.78 2.05 0 2.83L4 21.41c.39.39.9.59 1.41.59.51 0 1.02-.2 1.41-.59l7.78-7.78 2.81-2.81c.8-.78.8-2.07 0-2.86zM5.41 20L4 18.59l7.72-7.72 1.47 1.35L5.41 20z\"/>\n",
              "  </svg>\n",
              "      </button>\n",
              "\n",
              "\n",
              "\n",
              "    <div id=\"df-65064a5d-5d2d-4fbb-accd-34591a25a168\">\n",
              "      <button class=\"colab-df-quickchart\" onclick=\"quickchart('df-65064a5d-5d2d-4fbb-accd-34591a25a168')\"\n",
              "              title=\"Suggest charts.\"\n",
              "              style=\"display:none;\">\n",
              "\n",
              "<svg xmlns=\"http://www.w3.org/2000/svg\" height=\"24px\"viewBox=\"0 0 24 24\"\n",
              "     width=\"24px\">\n",
              "    <g>\n",
              "        <path d=\"M19 3H5c-1.1 0-2 .9-2 2v14c0 1.1.9 2 2 2h14c1.1 0 2-.9 2-2V5c0-1.1-.9-2-2-2zM9 17H7v-7h2v7zm4 0h-2V7h2v10zm4 0h-2v-4h2v4z\"/>\n",
              "    </g>\n",
              "</svg>\n",
              "      </button>\n",
              "    </div>\n",
              "\n",
              "<style>\n",
              "  .colab-df-quickchart {\n",
              "    background-color: #E8F0FE;\n",
              "    border: none;\n",
              "    border-radius: 50%;\n",
              "    cursor: pointer;\n",
              "    display: none;\n",
              "    fill: #1967D2;\n",
              "    height: 32px;\n",
              "    padding: 0 0 0 0;\n",
              "    width: 32px;\n",
              "  }\n",
              "\n",
              "  .colab-df-quickchart:hover {\n",
              "    background-color: #E2EBFA;\n",
              "    box-shadow: 0px 1px 2px rgba(60, 64, 67, 0.3), 0px 1px 3px 1px rgba(60, 64, 67, 0.15);\n",
              "    fill: #174EA6;\n",
              "  }\n",
              "\n",
              "  [theme=dark] .colab-df-quickchart {\n",
              "    background-color: #3B4455;\n",
              "    fill: #D2E3FC;\n",
              "  }\n",
              "\n",
              "  [theme=dark] .colab-df-quickchart:hover {\n",
              "    background-color: #434B5C;\n",
              "    box-shadow: 0px 1px 3px 1px rgba(0, 0, 0, 0.15);\n",
              "    filter: drop-shadow(0px 1px 2px rgba(0, 0, 0, 0.3));\n",
              "    fill: #FFFFFF;\n",
              "  }\n",
              "</style>\n",
              "\n",
              "    <script>\n",
              "      async function quickchart(key) {\n",
              "        const containerElement = document.querySelector('#' + key);\n",
              "        const charts = await google.colab.kernel.invokeFunction(\n",
              "            'suggestCharts', [key], {});\n",
              "      }\n",
              "    </script>\n",
              "\n",
              "      <script>\n",
              "\n",
              "function displayQuickchartButton(domScope) {\n",
              "  let quickchartButtonEl =\n",
              "    domScope.querySelector('#df-65064a5d-5d2d-4fbb-accd-34591a25a168 button.colab-df-quickchart');\n",
              "  quickchartButtonEl.style.display =\n",
              "    google.colab.kernel.accessAllowed ? 'block' : 'none';\n",
              "}\n",
              "\n",
              "        displayQuickchartButton(document);\n",
              "      </script>\n",
              "      <style>\n",
              "    .colab-df-container {\n",
              "      display:flex;\n",
              "      flex-wrap:wrap;\n",
              "      gap: 12px;\n",
              "    }\n",
              "\n",
              "    .colab-df-convert {\n",
              "      background-color: #E8F0FE;\n",
              "      border: none;\n",
              "      border-radius: 50%;\n",
              "      cursor: pointer;\n",
              "      display: none;\n",
              "      fill: #1967D2;\n",
              "      height: 32px;\n",
              "      padding: 0 0 0 0;\n",
              "      width: 32px;\n",
              "    }\n",
              "\n",
              "    .colab-df-convert:hover {\n",
              "      background-color: #E2EBFA;\n",
              "      box-shadow: 0px 1px 2px rgba(60, 64, 67, 0.3), 0px 1px 3px 1px rgba(60, 64, 67, 0.15);\n",
              "      fill: #174EA6;\n",
              "    }\n",
              "\n",
              "    [theme=dark] .colab-df-convert {\n",
              "      background-color: #3B4455;\n",
              "      fill: #D2E3FC;\n",
              "    }\n",
              "\n",
              "    [theme=dark] .colab-df-convert:hover {\n",
              "      background-color: #434B5C;\n",
              "      box-shadow: 0px 1px 3px 1px rgba(0, 0, 0, 0.15);\n",
              "      filter: drop-shadow(0px 1px 2px rgba(0, 0, 0, 0.3));\n",
              "      fill: #FFFFFF;\n",
              "    }\n",
              "  </style>\n",
              "\n",
              "      <script>\n",
              "        const buttonEl =\n",
              "          document.querySelector('#df-b6dfb133-fef8-46dc-b371-df95ce51b836 button.colab-df-convert');\n",
              "        buttonEl.style.display =\n",
              "          google.colab.kernel.accessAllowed ? 'block' : 'none';\n",
              "\n",
              "        async function convertToInteractive(key) {\n",
              "          const element = document.querySelector('#df-b6dfb133-fef8-46dc-b371-df95ce51b836');\n",
              "          const dataTable =\n",
              "            await google.colab.kernel.invokeFunction('convertToInteractive',\n",
              "                                                     [key], {});\n",
              "          if (!dataTable) return;\n",
              "\n",
              "          const docLinkHtml = 'Like what you see? Visit the ' +\n",
              "            '<a target=\"_blank\" href=https://colab.research.google.com/notebooks/data_table.ipynb>data table notebook</a>'\n",
              "            + ' to learn more about interactive tables.';\n",
              "          element.innerHTML = '';\n",
              "          dataTable['output_type'] = 'display_data';\n",
              "          await google.colab.output.renderOutput(dataTable, element);\n",
              "          const docLink = document.createElement('div');\n",
              "          docLink.innerHTML = docLinkHtml;\n",
              "          element.appendChild(docLink);\n",
              "        }\n",
              "      </script>\n",
              "    </div>\n",
              "  </div>\n"
            ]
          },
          "metadata": {},
          "execution_count": 3
        }
      ]
    },
    {
      "cell_type": "code",
      "source": [
        "df.tail()"
      ],
      "metadata": {
        "colab": {
          "base_uri": "https://localhost:8080/",
          "height": 206
        },
        "id": "p0QyvFlCoA9G",
        "outputId": "fdc21ba2-7c6e-4e6e-a1a5-81ec0609a538"
      },
      "execution_count": null,
      "outputs": [
        {
          "output_type": "execute_result",
          "data": {
            "text/plain": [
              "            Date         HDFC          HUL  TATA STEEL     RELIANCE  \\\n",
              "1227  20-07-2023  1688.750000  2703.250000  116.949997  2619.850098   \n",
              "1228  21-07-2023  1675.750000  2604.000000  116.599998  2538.750000   \n",
              "1229  24-07-2023  1678.400024  2580.250000  115.500000  2487.399902   \n",
              "1230  25-07-2023  1696.599976  2568.149902  119.250000  2485.800049   \n",
              "1231  26-07-2023  1690.699951  2583.300049  119.949997  2526.199951   \n",
              "\n",
              "           NIFITY  \n",
              "1227  19979.15039  \n",
              "1228  19745.00000  \n",
              "1229  19672.34961  \n",
              "1230  19680.59961  \n",
              "1231  19778.30078  "
            ],
            "text/html": [
              "\n",
              "\n",
              "  <div id=\"df-a7e24a1f-df08-4dcf-b067-cb51ef123ecd\">\n",
              "    <div class=\"colab-df-container\">\n",
              "      <div>\n",
              "<style scoped>\n",
              "    .dataframe tbody tr th:only-of-type {\n",
              "        vertical-align: middle;\n",
              "    }\n",
              "\n",
              "    .dataframe tbody tr th {\n",
              "        vertical-align: top;\n",
              "    }\n",
              "\n",
              "    .dataframe thead th {\n",
              "        text-align: right;\n",
              "    }\n",
              "</style>\n",
              "<table border=\"1\" class=\"dataframe\">\n",
              "  <thead>\n",
              "    <tr style=\"text-align: right;\">\n",
              "      <th></th>\n",
              "      <th>Date</th>\n",
              "      <th>HDFC</th>\n",
              "      <th>HUL</th>\n",
              "      <th>TATA STEEL</th>\n",
              "      <th>RELIANCE</th>\n",
              "      <th>NIFITY</th>\n",
              "    </tr>\n",
              "  </thead>\n",
              "  <tbody>\n",
              "    <tr>\n",
              "      <th>1227</th>\n",
              "      <td>20-07-2023</td>\n",
              "      <td>1688.750000</td>\n",
              "      <td>2703.250000</td>\n",
              "      <td>116.949997</td>\n",
              "      <td>2619.850098</td>\n",
              "      <td>19979.15039</td>\n",
              "    </tr>\n",
              "    <tr>\n",
              "      <th>1228</th>\n",
              "      <td>21-07-2023</td>\n",
              "      <td>1675.750000</td>\n",
              "      <td>2604.000000</td>\n",
              "      <td>116.599998</td>\n",
              "      <td>2538.750000</td>\n",
              "      <td>19745.00000</td>\n",
              "    </tr>\n",
              "    <tr>\n",
              "      <th>1229</th>\n",
              "      <td>24-07-2023</td>\n",
              "      <td>1678.400024</td>\n",
              "      <td>2580.250000</td>\n",
              "      <td>115.500000</td>\n",
              "      <td>2487.399902</td>\n",
              "      <td>19672.34961</td>\n",
              "    </tr>\n",
              "    <tr>\n",
              "      <th>1230</th>\n",
              "      <td>25-07-2023</td>\n",
              "      <td>1696.599976</td>\n",
              "      <td>2568.149902</td>\n",
              "      <td>119.250000</td>\n",
              "      <td>2485.800049</td>\n",
              "      <td>19680.59961</td>\n",
              "    </tr>\n",
              "    <tr>\n",
              "      <th>1231</th>\n",
              "      <td>26-07-2023</td>\n",
              "      <td>1690.699951</td>\n",
              "      <td>2583.300049</td>\n",
              "      <td>119.949997</td>\n",
              "      <td>2526.199951</td>\n",
              "      <td>19778.30078</td>\n",
              "    </tr>\n",
              "  </tbody>\n",
              "</table>\n",
              "</div>\n",
              "      <button class=\"colab-df-convert\" onclick=\"convertToInteractive('df-a7e24a1f-df08-4dcf-b067-cb51ef123ecd')\"\n",
              "              title=\"Convert this dataframe to an interactive table.\"\n",
              "              style=\"display:none;\">\n",
              "\n",
              "  <svg xmlns=\"http://www.w3.org/2000/svg\" height=\"24px\"viewBox=\"0 0 24 24\"\n",
              "       width=\"24px\">\n",
              "    <path d=\"M0 0h24v24H0V0z\" fill=\"none\"/>\n",
              "    <path d=\"M18.56 5.44l.94 2.06.94-2.06 2.06-.94-2.06-.94-.94-2.06-.94 2.06-2.06.94zm-11 1L8.5 8.5l.94-2.06 2.06-.94-2.06-.94L8.5 2.5l-.94 2.06-2.06.94zm10 10l.94 2.06.94-2.06 2.06-.94-2.06-.94-.94-2.06-.94 2.06-2.06.94z\"/><path d=\"M17.41 7.96l-1.37-1.37c-.4-.4-.92-.59-1.43-.59-.52 0-1.04.2-1.43.59L10.3 9.45l-7.72 7.72c-.78.78-.78 2.05 0 2.83L4 21.41c.39.39.9.59 1.41.59.51 0 1.02-.2 1.41-.59l7.78-7.78 2.81-2.81c.8-.78.8-2.07 0-2.86zM5.41 20L4 18.59l7.72-7.72 1.47 1.35L5.41 20z\"/>\n",
              "  </svg>\n",
              "      </button>\n",
              "\n",
              "\n",
              "\n",
              "    <div id=\"df-e7dbcbf2-7684-4c93-b24a-75737865f0fe\">\n",
              "      <button class=\"colab-df-quickchart\" onclick=\"quickchart('df-e7dbcbf2-7684-4c93-b24a-75737865f0fe')\"\n",
              "              title=\"Suggest charts.\"\n",
              "              style=\"display:none;\">\n",
              "\n",
              "<svg xmlns=\"http://www.w3.org/2000/svg\" height=\"24px\"viewBox=\"0 0 24 24\"\n",
              "     width=\"24px\">\n",
              "    <g>\n",
              "        <path d=\"M19 3H5c-1.1 0-2 .9-2 2v14c0 1.1.9 2 2 2h14c1.1 0 2-.9 2-2V5c0-1.1-.9-2-2-2zM9 17H7v-7h2v7zm4 0h-2V7h2v10zm4 0h-2v-4h2v4z\"/>\n",
              "    </g>\n",
              "</svg>\n",
              "      </button>\n",
              "    </div>\n",
              "\n",
              "<style>\n",
              "  .colab-df-quickchart {\n",
              "    background-color: #E8F0FE;\n",
              "    border: none;\n",
              "    border-radius: 50%;\n",
              "    cursor: pointer;\n",
              "    display: none;\n",
              "    fill: #1967D2;\n",
              "    height: 32px;\n",
              "    padding: 0 0 0 0;\n",
              "    width: 32px;\n",
              "  }\n",
              "\n",
              "  .colab-df-quickchart:hover {\n",
              "    background-color: #E2EBFA;\n",
              "    box-shadow: 0px 1px 2px rgba(60, 64, 67, 0.3), 0px 1px 3px 1px rgba(60, 64, 67, 0.15);\n",
              "    fill: #174EA6;\n",
              "  }\n",
              "\n",
              "  [theme=dark] .colab-df-quickchart {\n",
              "    background-color: #3B4455;\n",
              "    fill: #D2E3FC;\n",
              "  }\n",
              "\n",
              "  [theme=dark] .colab-df-quickchart:hover {\n",
              "    background-color: #434B5C;\n",
              "    box-shadow: 0px 1px 3px 1px rgba(0, 0, 0, 0.15);\n",
              "    filter: drop-shadow(0px 1px 2px rgba(0, 0, 0, 0.3));\n",
              "    fill: #FFFFFF;\n",
              "  }\n",
              "</style>\n",
              "\n",
              "    <script>\n",
              "      async function quickchart(key) {\n",
              "        const containerElement = document.querySelector('#' + key);\n",
              "        const charts = await google.colab.kernel.invokeFunction(\n",
              "            'suggestCharts', [key], {});\n",
              "      }\n",
              "    </script>\n",
              "\n",
              "      <script>\n",
              "\n",
              "function displayQuickchartButton(domScope) {\n",
              "  let quickchartButtonEl =\n",
              "    domScope.querySelector('#df-e7dbcbf2-7684-4c93-b24a-75737865f0fe button.colab-df-quickchart');\n",
              "  quickchartButtonEl.style.display =\n",
              "    google.colab.kernel.accessAllowed ? 'block' : 'none';\n",
              "}\n",
              "\n",
              "        displayQuickchartButton(document);\n",
              "      </script>\n",
              "      <style>\n",
              "    .colab-df-container {\n",
              "      display:flex;\n",
              "      flex-wrap:wrap;\n",
              "      gap: 12px;\n",
              "    }\n",
              "\n",
              "    .colab-df-convert {\n",
              "      background-color: #E8F0FE;\n",
              "      border: none;\n",
              "      border-radius: 50%;\n",
              "      cursor: pointer;\n",
              "      display: none;\n",
              "      fill: #1967D2;\n",
              "      height: 32px;\n",
              "      padding: 0 0 0 0;\n",
              "      width: 32px;\n",
              "    }\n",
              "\n",
              "    .colab-df-convert:hover {\n",
              "      background-color: #E2EBFA;\n",
              "      box-shadow: 0px 1px 2px rgba(60, 64, 67, 0.3), 0px 1px 3px 1px rgba(60, 64, 67, 0.15);\n",
              "      fill: #174EA6;\n",
              "    }\n",
              "\n",
              "    [theme=dark] .colab-df-convert {\n",
              "      background-color: #3B4455;\n",
              "      fill: #D2E3FC;\n",
              "    }\n",
              "\n",
              "    [theme=dark] .colab-df-convert:hover {\n",
              "      background-color: #434B5C;\n",
              "      box-shadow: 0px 1px 3px 1px rgba(0, 0, 0, 0.15);\n",
              "      filter: drop-shadow(0px 1px 2px rgba(0, 0, 0, 0.3));\n",
              "      fill: #FFFFFF;\n",
              "    }\n",
              "  </style>\n",
              "\n",
              "      <script>\n",
              "        const buttonEl =\n",
              "          document.querySelector('#df-a7e24a1f-df08-4dcf-b067-cb51ef123ecd button.colab-df-convert');\n",
              "        buttonEl.style.display =\n",
              "          google.colab.kernel.accessAllowed ? 'block' : 'none';\n",
              "\n",
              "        async function convertToInteractive(key) {\n",
              "          const element = document.querySelector('#df-a7e24a1f-df08-4dcf-b067-cb51ef123ecd');\n",
              "          const dataTable =\n",
              "            await google.colab.kernel.invokeFunction('convertToInteractive',\n",
              "                                                     [key], {});\n",
              "          if (!dataTable) return;\n",
              "\n",
              "          const docLinkHtml = 'Like what you see? Visit the ' +\n",
              "            '<a target=\"_blank\" href=https://colab.research.google.com/notebooks/data_table.ipynb>data table notebook</a>'\n",
              "            + ' to learn more about interactive tables.';\n",
              "          element.innerHTML = '';\n",
              "          dataTable['output_type'] = 'display_data';\n",
              "          await google.colab.output.renderOutput(dataTable, element);\n",
              "          const docLink = document.createElement('div');\n",
              "          docLink.innerHTML = docLinkHtml;\n",
              "          element.appendChild(docLink);\n",
              "        }\n",
              "      </script>\n",
              "    </div>\n",
              "  </div>\n"
            ]
          },
          "metadata": {},
          "execution_count": 4
        }
      ]
    },
    {
      "cell_type": "code",
      "source": [
        "df1=df.reset_index()['NIFITY']"
      ],
      "metadata": {
        "id": "-0m8QrpqoDFV"
      },
      "execution_count": null,
      "outputs": []
    },
    {
      "cell_type": "code",
      "source": [
        "import matplotlib.pyplot as plt\n",
        "plt.plot(df1)"
      ],
      "metadata": {
        "colab": {
          "base_uri": "https://localhost:8080/",
          "height": 448
        },
        "id": "0jZiSYFcoLUs",
        "outputId": "02ec89e1-3b3b-4c33-afb5-f53e3490741b"
      },
      "execution_count": null,
      "outputs": [
        {
          "output_type": "execute_result",
          "data": {
            "text/plain": [
              "[<matplotlib.lines.Line2D at 0x78aac5dddea0>]"
            ]
          },
          "metadata": {},
          "execution_count": 6
        },
        {
          "output_type": "display_data",
          "data": {
            "text/plain": [
              "<Figure size 640x480 with 1 Axes>"
            ],
            "image/png": "[encoded data removed]"
          },
          "metadata": {}
        }
      ]
    },
    {
      "cell_type": "code",
      "source": [
        "### LSTM are sensitive to the scale of the data. so using MinMax scaler\n",
        "import numpy as np"
      ],
      "metadata": {
        "id": "DLM5yVoDoQ1d"
      },
      "execution_count": null,
      "outputs": []
    },
    {
      "cell_type": "code",
      "source": [
        "### LSTM are sensitive to the scale of the data. so using MinMax scaler\n",
        "from sklearn.preprocessing import MinMaxScaler\n",
        "scaler=MinMaxScaler(feature_range=(0,1))\n",
        "df1=scaler.fit_transform(np.array(df1).reshape(-1,1))"
      ],
      "metadata": {
        "id": "fXtRVXiMoa_u"
      },
      "execution_count": null,
      "outputs": []
    },
    {
      "cell_type": "code",
      "source": [
        "print(df1)"
      ],
      "metadata": {
        "colab": {
          "base_uri": "https://localhost:8080/"
        },
        "id": "bfH_1mXfoinU",
        "outputId": "3526ea61-ee51-42ef-9db1-c181324d6990"
      },
      "execution_count": null,
      "outputs": [
        {
          "output_type": "stream",
          "name": "stdout",
          "text": [
            "[[0.29988921]\n",
            " [0.30287656]\n",
            " [0.30204384]\n",
            " ...\n",
            " [0.97519579]\n",
            " [0.97586279]\n",
            " [0.98376172]]\n"
          ]
        }
      ]
    },
    {
      "cell_type": "code",
      "source": [
        "##splitting dataset into train and test split\n",
        "training_size=int(len(df1)*0.70)\n",
        "test_size=len(df1)-training_size\n",
        "train_data,test_data=df1[0:training_size,:],df1[training_size:len(df1),:1]"
      ],
      "metadata": {
        "id": "P9I-90x-p_7j"
      },
      "execution_count": null,
      "outputs": []
    },
    {
      "cell_type": "code",
      "source": [
        "import numpy\n",
        "# convert an array of values into a dataset matrix\n",
        "def create_dataset(dataset, time_step=1):\n",
        "\tdataX, dataY = [], []\n",
        "\tfor i in range(len(dataset)-time_step-1):\n",
        "\t\ta = dataset[i:(i+time_step), 0]\n",
        "\t\tdataX.append(a)\n",
        "\t\tdataY.append(dataset[i + time_step, 0])\n",
        "\treturn numpy.array(dataX), numpy.array(dataY)"
      ],
      "metadata": {
        "id": "EHsesLXHqH76"
      },
      "execution_count": null,
      "outputs": []
    },
    {
      "cell_type": "code",
      "source": [
        "# reshape into X=t,t+1,t+2,t+3 and Y=t+4\n",
        "time_step = 100\n",
        "X_train, y_train = create_dataset(train_data, time_step)\n",
        "X_test, ytest = create_dataset(test_data, time_step)"
      ],
      "metadata": {
        "id": "Di6DGB3vqb1a"
      },
      "execution_count": null,
      "outputs": []
    },
    {
      "cell_type": "code",
      "source": [
        "print(X_train.shape), print(y_train.shape)"
      ],
      "metadata": {
        "colab": {
          "base_uri": "https://localhost:8080/"
        },
        "id": "9-o58RgqxkGG",
        "outputId": "bbd9db78-b1c1-4a8f-baaf-067a070d6e96"
      },
      "execution_count": null,
      "outputs": [
        {
          "output_type": "stream",
          "name": "stdout",
          "text": [
            "(761, 100)\n",
            "(761,)\n"
          ]
        },
        {
          "output_type": "execute_result",
          "data": {
            "text/plain": [
              "(None, None)"
            ]
          },
          "metadata": {},
          "execution_count": 13
        }
      ]
    },
    {
      "cell_type": "code",
      "source": [
        "print(X_test.shape), print(ytest.shape)\n"
      ],
      "metadata": {
        "colab": {
          "base_uri": "https://localhost:8080/"
        },
        "id": "Uwt5LtHwyLWE",
        "outputId": "dedc942b-1184-4b66-ece7-b2c8c2271d4c"
      },
      "execution_count": null,
      "outputs": [
        {
          "output_type": "stream",
          "name": "stdout",
          "text": [
            "(269, 100)\n",
            "(269,)\n"
          ]
        },
        {
          "output_type": "execute_result",
          "data": {
            "text/plain": [
              "(None, None)"
            ]
          },
          "metadata": {},
          "execution_count": 14
        }
      ]
    },
    {
      "cell_type": "code",
      "source": [
        "# reshape input to be [samples, time steps, features] which is required for LSTM\n",
        "X_train =X_train.reshape(X_train.shape[0],X_train.shape[1] , 1)\n",
        "X_test = X_test.reshape(X_test.shape[0],X_test.shape[1] , 1)"
      ],
      "metadata": {
        "id": "0uzfELh1yRsp"
      },
      "execution_count": null,
      "outputs": []
    },
    {
      "cell_type": "code",
      "source": [
        "print(X_train)"
      ],
      "metadata": {
        "colab": {
          "base_uri": "https://localhost:8080/"
        },
        "id": "f4NrpkoI1Yko",
        "outputId": "43f1ad7b-0196-4324-e9d3-a7afa1ba7cfe"
      },
      "execution_count": null,
      "outputs": [
        {
          "output_type": "stream",
          "name": "stdout",
          "text": [
            "[[[0.29988921]\n",
            "  [0.30287656]\n",
            "  [0.30204384]\n",
            "  ...\n",
            "  [0.24684894]\n",
            "  [0.25221317]\n",
            "  [0.25625154]]\n",
            "\n",
            " [[0.30287656]\n",
            "  [0.30204384]\n",
            "  [0.29383778]\n",
            "  ...\n",
            "  [0.25221317]\n",
            "  [0.25625154]\n",
            "  [0.26272751]]\n",
            "\n",
            " [[0.30204384]\n",
            "  [0.29383778]\n",
            "  [0.30322419]\n",
            "  ...\n",
            "  [0.25625154]\n",
            "  [0.26272751]\n",
            "  [0.26294171]]\n",
            "\n",
            " ...\n",
            "\n",
            " [[0.75356745]\n",
            "  [0.76982989]\n",
            "  [0.76530651]\n",
            "  ...\n",
            "  [0.84912971]\n",
            "  [0.83500959]\n",
            "  [0.82034374]]\n",
            "\n",
            " [[0.76982989]\n",
            "  [0.76530651]\n",
            "  [0.77807243]\n",
            "  ...\n",
            "  [0.83500959]\n",
            "  [0.82034374]\n",
            "  [0.80903719]]\n",
            "\n",
            " [[0.76530651]\n",
            "  [0.77807243]\n",
            "  [0.78530421]\n",
            "  ...\n",
            "  [0.82034374]\n",
            "  [0.80903719]\n",
            "  [0.77119625]]]\n"
          ]
        }
      ]
    },
    {
      "cell_type": "code",
      "source": [
        "from tensorflow.keras.models import Sequential\n",
        "from tensorflow.keras.layers import Dense\n",
        "from tensorflow.keras.layers import LSTM"
      ],
      "metadata": {
        "id": "IXUOZI1g10zC"
      },
      "execution_count": null,
      "outputs": []
    },
    {
      "cell_type": "code",
      "source": [
        "model=Sequential()\n",
        "model.add(LSTM(50,return_sequences=True,input_shape=(100,1)))\n",
        "model.add(LSTM(50,return_sequences=True))\n",
        "model.add(LSTM(50))\n",
        "model.add(Dense(1))\n",
        "model.compile(loss='mean_squared_error',optimizer='adam')\n"
      ],
      "metadata": {
        "id": "Q6nOUTX215KY"
      },
      "execution_count": null,
      "outputs": []
    },
    {
      "cell_type": "code",
      "source": [
        "model.summary()"
      ],
      "metadata": {
        "colab": {
          "base_uri": "https://localhost:8080/"
        },
        "id": "QntK73hL18ZJ",
        "outputId": "9c297977-ee01-4116-df0a-7fabef48278f"
      },
      "execution_count": null,
      "outputs": [
        {
          "output_type": "stream",
          "name": "stdout",
          "text": [
            "Model: \"sequential\"\n",
            "_________________________________________________________________\n",
            " Layer (type)                Output Shape              Param #   \n",
            "=================================================================\n",
            " lstm (LSTM)                 (None, 100, 50)           10400     \n",
            "                                                                 \n",
            " lstm_1 (LSTM)               (None, 100, 50)           20200     \n",
            "                                                                 \n",
            " lstm_2 (LSTM)               (None, 50)                20200     \n",
            "                                                                 \n",
            " dense (Dense)               (None, 1)                 51        \n",
            "                                                                 \n",
            "=================================================================\n",
            "Total params: 50,851\n",
            "Trainable params: 50,851\n",
            "Non-trainable params: 0\n",
            "_________________________________________________________________\n"
          ]
        }
      ]
    },
    {
      "cell_type": "code",
      "source": [
        "\n",
        "model.fit(\n",
        "    X_train,\n",
        "    y_train,\n",
        "    validation_data=(X_test, ytest),\n",
        "    epochs=100,\n",
        "    batch_size=64,\n",
        "    verbose=1\n",
        ")"
      ],
      "metadata": {
        "colab": {
          "base_uri": "https://localhost:8080/"
        },
        "id": "CRO9VzE72B85",
        "outputId": "bd44f910-106b-428f-9565-39b816ac2e1e"
      },
      "execution_count": null,
      "outputs": [
        {
          "output_type": "stream",
          "name": "stdout",
          "text": [
            "Epoch 1/100\n",
            "12/12 [==============================] - 7s 215ms/step - loss: 0.0534 - val_loss: 0.0697\n",
            "Epoch 2/100\n",
            "12/12 [==============================] - 2s 180ms/step - loss: 0.0128 - val_loss: 0.0017\n",
            "Epoch 3/100\n",
            "12/12 [==============================] - 2s 162ms/step - loss: 0.0061 - val_loss: 0.0124\n",
            "Epoch 4/100\n",
            "12/12 [==============================] - 2s 133ms/step - loss: 0.0028 - val_loss: 0.0038\n",
            "Epoch 5/100\n",
            "12/12 [==============================] - 2s 145ms/step - loss: 0.0018 - val_loss: 0.0011\n",
            "Epoch 6/100\n",
            "12/12 [==============================] - 2s 175ms/step - loss: 0.0015 - val_loss: 0.0013\n",
            "Epoch 7/100\n",
            "12/12 [==============================] - 2s 136ms/step - loss: 0.0015 - val_loss: 0.0011\n",
            "Epoch 8/100\n",
            "12/12 [==============================] - 2s 134ms/step - loss: 0.0014 - val_loss: 0.0011\n",
            "Epoch 9/100\n",
            "12/12 [==============================] - 2s 135ms/step - loss: 0.0014 - val_loss: 9.8954e-04\n",
            "Epoch 10/100\n",
            "12/12 [==============================] - 2s 135ms/step - loss: 0.0014 - val_loss: 9.7213e-04\n",
            "Epoch 11/100\n",
            "12/12 [==============================] - 2s 136ms/step - loss: 0.0013 - val_loss: 9.6000e-04\n",
            "Epoch 12/100\n",
            "12/12 [==============================] - 2s 149ms/step - loss: 0.0013 - val_loss: 9.2986e-04\n",
            "Epoch 13/100\n",
            "12/12 [==============================] - 2s 171ms/step - loss: 0.0013 - val_loss: 9.6058e-04\n",
            "Epoch 14/100\n",
            "12/12 [==============================] - 2s 133ms/step - loss: 0.0013 - val_loss: 9.2897e-04\n",
            "Epoch 15/100\n",
            "12/12 [==============================] - 2s 136ms/step - loss: 0.0012 - val_loss: 8.7756e-04\n",
            "Epoch 16/100\n",
            "12/12 [==============================] - 2s 138ms/step - loss: 0.0012 - val_loss: 9.5228e-04\n",
            "Epoch 17/100\n",
            "12/12 [==============================] - 2s 137ms/step - loss: 0.0012 - val_loss: 8.0886e-04\n",
            "Epoch 18/100\n",
            "12/12 [==============================] - 2s 132ms/step - loss: 0.0011 - val_loss: 7.8723e-04\n",
            "Epoch 19/100\n",
            "12/12 [==============================] - 2s 155ms/step - loss: 0.0011 - val_loss: 7.4272e-04\n",
            "Epoch 20/100\n",
            "12/12 [==============================] - 2s 164ms/step - loss: 0.0011 - val_loss: 7.1670e-04\n",
            "Epoch 21/100\n",
            "12/12 [==============================] - 2s 139ms/step - loss: 0.0010 - val_loss: 7.1778e-04\n",
            "Epoch 22/100\n",
            "12/12 [==============================] - 2s 152ms/step - loss: 0.0010 - val_loss: 7.8927e-04\n",
            "Epoch 23/100\n",
            "12/12 [==============================] - 2s 135ms/step - loss: 9.5948e-04 - val_loss: 6.6020e-04\n",
            "Epoch 24/100\n",
            "12/12 [==============================] - 2s 138ms/step - loss: 9.3266e-04 - val_loss: 0.0013\n",
            "Epoch 25/100\n",
            "12/12 [==============================] - 2s 136ms/step - loss: 9.5650e-04 - val_loss: 7.2829e-04\n",
            "Epoch 26/100\n",
            "12/12 [==============================] - 2s 180ms/step - loss: 0.0010 - val_loss: 0.0014\n",
            "Epoch 27/100\n",
            "12/12 [==============================] - 2s 140ms/step - loss: 9.9650e-04 - val_loss: 7.4854e-04\n",
            "Epoch 28/100\n",
            "12/12 [==============================] - 2s 136ms/step - loss: 9.2356e-04 - val_loss: 6.1144e-04\n",
            "Epoch 29/100\n",
            "12/12 [==============================] - 2s 131ms/step - loss: 8.6958e-04 - val_loss: 6.2635e-04\n",
            "Epoch 30/100\n",
            "12/12 [==============================] - 2s 132ms/step - loss: 8.8500e-04 - val_loss: 7.2415e-04\n",
            "Epoch 31/100\n",
            "12/12 [==============================] - 2s 132ms/step - loss: 8.4297e-04 - val_loss: 6.8157e-04\n",
            "Epoch 32/100\n",
            "12/12 [==============================] - 2s 135ms/step - loss: 8.4817e-04 - val_loss: 5.6153e-04\n",
            "Epoch 33/100\n",
            "12/12 [==============================] - 2s 175ms/step - loss: 8.3534e-04 - val_loss: 6.0109e-04\n",
            "Epoch 34/100\n",
            "12/12 [==============================] - 2s 142ms/step - loss: 8.9736e-04 - val_loss: 5.7214e-04\n",
            "Epoch 35/100\n",
            "12/12 [==============================] - 2s 134ms/step - loss: 9.2748e-04 - val_loss: 6.3480e-04\n",
            "Epoch 36/100\n",
            "12/12 [==============================] - 2s 133ms/step - loss: 8.8627e-04 - val_loss: 5.1936e-04\n",
            "Epoch 37/100\n",
            "12/12 [==============================] - 2s 133ms/step - loss: 8.1469e-04 - val_loss: 5.3678e-04\n",
            "Epoch 38/100\n",
            "12/12 [==============================] - 2s 135ms/step - loss: 8.0662e-04 - val_loss: 6.2893e-04\n",
            "Epoch 39/100\n",
            "12/12 [==============================] - 2s 130ms/step - loss: 8.9571e-04 - val_loss: 5.3654e-04\n",
            "Epoch 40/100\n",
            "12/12 [==============================] - 2s 176ms/step - loss: 8.1401e-04 - val_loss: 0.0010\n",
            "Epoch 41/100\n",
            "12/12 [==============================] - 2s 143ms/step - loss: 7.8449e-04 - val_loss: 8.7318e-04\n",
            "Epoch 42/100\n",
            "12/12 [==============================] - 2s 133ms/step - loss: 7.5239e-04 - val_loss: 4.7241e-04\n",
            "Epoch 43/100\n",
            "12/12 [==============================] - 2s 133ms/step - loss: 7.2636e-04 - val_loss: 5.2289e-04\n",
            "Epoch 44/100\n",
            "12/12 [==============================] - 2s 135ms/step - loss: 7.4007e-04 - val_loss: 7.4469e-04\n",
            "Epoch 45/100\n",
            "12/12 [==============================] - 2s 135ms/step - loss: 7.8614e-04 - val_loss: 0.0011\n",
            "Epoch 46/100\n",
            "12/12 [==============================] - 2s 132ms/step - loss: 8.0875e-04 - val_loss: 6.3280e-04\n",
            "Epoch 47/100\n",
            "12/12 [==============================] - 2s 181ms/step - loss: 7.1892e-04 - val_loss: 4.9918e-04\n",
            "Epoch 48/100\n",
            "12/12 [==============================] - 2s 142ms/step - loss: 7.1066e-04 - val_loss: 6.0834e-04\n",
            "Epoch 49/100\n",
            "12/12 [==============================] - 2s 135ms/step - loss: 6.7358e-04 - val_loss: 5.1194e-04\n",
            "Epoch 50/100\n",
            "12/12 [==============================] - 2s 133ms/step - loss: 6.5498e-04 - val_loss: 7.2158e-04\n",
            "Epoch 51/100\n",
            "12/12 [==============================] - 2s 133ms/step - loss: 6.6737e-04 - val_loss: 0.0014\n",
            "Epoch 52/100\n",
            "12/12 [==============================] - 2s 135ms/step - loss: 6.8606e-04 - val_loss: 4.3808e-04\n",
            "Epoch 53/100\n",
            "12/12 [==============================] - 2s 135ms/step - loss: 7.0521e-04 - val_loss: 4.1209e-04\n",
            "Epoch 54/100\n",
            "12/12 [==============================] - 2s 182ms/step - loss: 7.1117e-04 - val_loss: 6.8038e-04\n",
            "Epoch 55/100\n",
            "12/12 [==============================] - 2s 134ms/step - loss: 6.9960e-04 - val_loss: 4.1257e-04\n",
            "Epoch 56/100\n",
            "12/12 [==============================] - 2s 137ms/step - loss: 7.2413e-04 - val_loss: 5.7287e-04\n",
            "Epoch 57/100\n",
            "12/12 [==============================] - 2s 134ms/step - loss: 6.7050e-04 - val_loss: 4.3972e-04\n",
            "Epoch 58/100\n",
            "12/12 [==============================] - 2s 137ms/step - loss: 6.3121e-04 - val_loss: 5.2669e-04\n",
            "Epoch 59/100\n",
            "12/12 [==============================] - 2s 139ms/step - loss: 5.8766e-04 - val_loss: 4.5778e-04\n",
            "Epoch 60/100\n",
            "12/12 [==============================] - 2s 135ms/step - loss: 5.7492e-04 - val_loss: 4.2584e-04\n",
            "Epoch 61/100\n",
            "12/12 [==============================] - 2s 191ms/step - loss: 5.8325e-04 - val_loss: 5.3950e-04\n",
            "Epoch 62/100\n",
            "12/12 [==============================] - 2s 133ms/step - loss: 5.6332e-04 - val_loss: 4.9303e-04\n",
            "Epoch 63/100\n",
            "12/12 [==============================] - 2s 133ms/step - loss: 5.8910e-04 - val_loss: 3.8683e-04\n",
            "Epoch 64/100\n",
            "12/12 [==============================] - 2s 134ms/step - loss: 7.1755e-04 - val_loss: 4.7053e-04\n",
            "Epoch 65/100\n",
            "12/12 [==============================] - 2s 135ms/step - loss: 5.6443e-04 - val_loss: 3.9264e-04\n",
            "Epoch 66/100\n",
            "12/12 [==============================] - 2s 130ms/step - loss: 5.3172e-04 - val_loss: 5.3327e-04\n",
            "Epoch 67/100\n",
            "12/12 [==============================] - 2s 132ms/step - loss: 5.2932e-04 - val_loss: 7.0014e-04\n",
            "Epoch 68/100\n",
            "12/12 [==============================] - 2s 190ms/step - loss: 5.3213e-04 - val_loss: 3.7919e-04\n",
            "Epoch 69/100\n",
            "12/12 [==============================] - 2s 129ms/step - loss: 5.4894e-04 - val_loss: 4.7259e-04\n",
            "Epoch 70/100\n",
            "12/12 [==============================] - 2s 133ms/step - loss: 5.0087e-04 - val_loss: 3.7693e-04\n",
            "Epoch 71/100\n",
            "12/12 [==============================] - 2s 133ms/step - loss: 4.8468e-04 - val_loss: 4.5656e-04\n",
            "Epoch 72/100\n",
            "12/12 [==============================] - 2s 134ms/step - loss: 5.0678e-04 - val_loss: 4.5161e-04\n",
            "Epoch 73/100\n",
            "12/12 [==============================] - 2s 137ms/step - loss: 4.6973e-04 - val_loss: 0.0013\n",
            "Epoch 74/100\n",
            "12/12 [==============================] - 2s 134ms/step - loss: 5.2224e-04 - val_loss: 5.5826e-04\n",
            "Epoch 75/100\n",
            "12/12 [==============================] - 2s 192ms/step - loss: 4.7300e-04 - val_loss: 4.8202e-04\n",
            "Epoch 76/100\n",
            "12/12 [==============================] - 2s 134ms/step - loss: 4.3194e-04 - val_loss: 6.9851e-04\n",
            "Epoch 77/100\n",
            "12/12 [==============================] - 2s 133ms/step - loss: 4.2870e-04 - val_loss: 4.3137e-04\n",
            "Epoch 78/100\n",
            "12/12 [==============================] - 2s 135ms/step - loss: 4.5489e-04 - val_loss: 7.0716e-04\n",
            "Epoch 79/100\n",
            "12/12 [==============================] - 2s 132ms/step - loss: 4.4389e-04 - val_loss: 9.4006e-04\n",
            "Epoch 80/100\n",
            "12/12 [==============================] - 2s 133ms/step - loss: 4.6396e-04 - val_loss: 4.0443e-04\n",
            "Epoch 81/100\n",
            "12/12 [==============================] - 2s 134ms/step - loss: 4.4911e-04 - val_loss: 4.3199e-04\n",
            "Epoch 82/100\n",
            "12/12 [==============================] - 2s 193ms/step - loss: 4.2150e-04 - val_loss: 9.9463e-04\n",
            "Epoch 83/100\n",
            "12/12 [==============================] - 2s 131ms/step - loss: 4.1558e-04 - val_loss: 5.0287e-04\n",
            "Epoch 84/100\n",
            "12/12 [==============================] - 2s 138ms/step - loss: 4.4851e-04 - val_loss: 8.7221e-04\n",
            "Epoch 85/100\n",
            "12/12 [==============================] - 2s 133ms/step - loss: 3.9022e-04 - val_loss: 4.2810e-04\n",
            "Epoch 86/100\n",
            "12/12 [==============================] - 2s 135ms/step - loss: 3.9252e-04 - val_loss: 5.9869e-04\n",
            "Epoch 87/100\n",
            "12/12 [==============================] - 2s 135ms/step - loss: 3.6459e-04 - val_loss: 8.5376e-04\n",
            "Epoch 88/100\n",
            "12/12 [==============================] - 2s 132ms/step - loss: 4.2830e-04 - val_loss: 4.1525e-04\n",
            "Epoch 89/100\n",
            "12/12 [==============================] - 2s 191ms/step - loss: 4.4675e-04 - val_loss: 4.8405e-04\n",
            "Epoch 90/100\n",
            "12/12 [==============================] - 2s 134ms/step - loss: 3.9723e-04 - val_loss: 5.0239e-04\n",
            "Epoch 91/100\n",
            "12/12 [==============================] - 2s 133ms/step - loss: 3.5465e-04 - val_loss: 5.8574e-04\n",
            "Epoch 92/100\n",
            "12/12 [==============================] - 2s 133ms/step - loss: 3.6436e-04 - val_loss: 4.9661e-04\n",
            "Epoch 93/100\n",
            "12/12 [==============================] - 2s 134ms/step - loss: 4.4390e-04 - val_loss: 5.7759e-04\n",
            "Epoch 94/100\n",
            "12/12 [==============================] - 2s 131ms/step - loss: 4.4868e-04 - val_loss: 5.0714e-04\n",
            "Epoch 95/100\n",
            "12/12 [==============================] - 2s 134ms/step - loss: 3.4673e-04 - val_loss: 4.9009e-04\n",
            "Epoch 96/100\n",
            "12/12 [==============================] - 2s 194ms/step - loss: 3.6053e-04 - val_loss: 6.9832e-04\n",
            "Epoch 97/100\n",
            "12/12 [==============================] - 2s 134ms/step - loss: 3.4053e-04 - val_loss: 5.1170e-04\n",
            "Epoch 98/100\n",
            "12/12 [==============================] - 2s 136ms/step - loss: 3.1994e-04 - val_loss: 7.5127e-04\n",
            "Epoch 99/100\n",
            "12/12 [==============================] - 2s 133ms/step - loss: 3.2597e-04 - val_loss: 6.7454e-04\n",
            "Epoch 100/100\n",
            "12/12 [==============================] - 2s 136ms/step - loss: 3.3854e-04 - val_loss: 4.9641e-04\n"
          ]
        },
        {
          "output_type": "execute_result",
          "data": {
            "text/plain": [
              "<keras.callbacks.History at 0x7a317d213d60>"
            ]
          },
          "metadata": {},
          "execution_count": 20
        }
      ]
    },
    {
      "cell_type": "code",
      "source": [
        "import tensorflow as tf"
      ],
      "metadata": {
        "id": "2nlqPtOx4f-n"
      },
      "execution_count": null,
      "outputs": []
    },
    {
      "cell_type": "code",
      "source": [
        "train_predict=model.predict(X_train)\n",
        "test_predict=model.predict(X_test)"
      ],
      "metadata": {
        "colab": {
          "base_uri": "https://localhost:8080/"
        },
        "id": "JvE4yYVh4iqJ",
        "outputId": "11ddb0a4-7311-43ef-a8d2-1c023e35e941"
      },
      "execution_count": null,
      "outputs": [
        {
          "output_type": "stream",
          "name": "stdout",
          "text": [
            "24/24 [==============================] - 1s 28ms/step\n",
            "9/9 [==============================] - 1s 52ms/step\n"
          ]
        }
      ]
    },
    {
      "cell_type": "code",
      "source": [
        "##Transformback to original form\n",
        "train_predict=scaler.inverse_transform(train_predict)\n",
        "test_predict=scaler.inverse_transform(test_predict)"
      ],
      "metadata": {
        "id": "1vPMAIuf4mr8"
      },
      "execution_count": null,
      "outputs": []
    },
    {
      "cell_type": "code",
      "source": [
        "### Calculate RMSE performance metrics\n",
        "import math\n",
        "from sklearn.metrics import mean_squared_error\n",
        "math.sqrt(mean_squared_error(y_train,train_predict))"
      ],
      "metadata": {
        "colab": {
          "base_uri": "https://localhost:8080/"
        },
        "id": "m5lauEIN4pMa",
        "outputId": "bb0e3fca-994c-40e0-c8b4-2d4b2a97d488"
      },
      "execution_count": null,
      "outputs": [
        {
          "output_type": "execute_result",
          "data": {
            "text/plain": [
              "13285.082409578683"
            ]
          },
          "metadata": {},
          "execution_count": 24
        }
      ]
    },
    {
      "cell_type": "code",
      "source": [
        "math.sqrt(mean_squared_error(ytest,test_predict))\n"
      ],
      "metadata": {
        "colab": {
          "base_uri": "https://localhost:8080/"
        },
        "id": "nqqEI5NV4tph",
        "outputId": "3fc949e8-8474-40a7-8556-3c2a9b0efa65"
      },
      "execution_count": null,
      "outputs": [
        {
          "output_type": "execute_result",
          "data": {
            "text/plain": [
              "17846.89633344208"
            ]
          },
          "metadata": {},
          "execution_count": 25
        }
      ]
    },
    {
      "cell_type": "code",
      "source": [
        "\n",
        "# shift train predictions for plotting\n",
        "look_back=100\n",
        "trainPredictPlot = numpy.empty_like(df1)\n",
        "trainPredictPlot[:, :] = np.nan\n",
        "trainPredictPlot[look_back:len(train_predict)+look_back, :] = train_predict\n",
        "# shift test predictions for plotting\n",
        "testPredictPlot = numpy.empty_like(df1)\n",
        "testPredictPlot[:, :] = numpy.nan\n",
        "testPredictPlot[len(train_predict)+(look_back*2)+1:len(df1)-1, :] = test_predict\n",
        "# plot baseline and predictions\n",
        "plt.plot(scaler.inverse_transform(df1))\n",
        "plt.plot(trainPredictPlot)\n",
        "plt.plot(testPredictPlot)\n",
        "plt.show()"
      ],
      "metadata": {
        "colab": {
          "base_uri": "https://localhost:8080/",
          "height": 430
        },
        "id": "Zfl0TTjD4w_h",
        "outputId": "43312fcf-d698-483a-d243-cfea7503b52b"
      },
      "execution_count": null,
      "outputs": [
        {
          "output_type": "display_data",
          "data": {
            "text/plain": [
              "<Figure size 640x480 with 1 Axes>"
            ],
            "image/png": "[encoded data removed]"
          },
          "metadata": {}
        }
      ]
    }
  ]
}