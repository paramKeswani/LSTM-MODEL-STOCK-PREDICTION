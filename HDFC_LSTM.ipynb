{
  "nbformat": 4,
  "nbformat_minor": 0,
  "metadata": {
    "colab": {
      "provenance": [],
      "authorship_tag": "ABX9TyP47jp9HPkeTPR5nXVYaKtc",
      "include_colab_link": true
    },
    "kernelspec": {
      "name": "python3",
      "display_name": "Python 3"
    },
    "language_info": {
      "name": "python"
    }
  },
  "cells": [
    {
      "cell_type": "markdown",
      "metadata": {
        "id": "view-in-github",
        "colab_type": "text"
      },
      "source": [
        "<a href=\"https://colab.research.google.com/github/paramKeswani/LSTM-MODEL-STOCK-PREDICTION/blob/main/HDFC_LSTM.ipynb\" target=\"_parent\"><img src=\"https://colab.research.google.com/assets/colab-badge.svg\" alt=\"Open In Colab\"/></a>"
      ]
    },
    {
      "cell_type": "markdown",
      "source": [
        "### Stock Market Prediction And Forecasting Using Stacked LSTM\n"
      ],
      "metadata": {
        "id": "RTINqM9xngwc"
      }
    },
    {
      "cell_type": "code",
      "source": [
        "import pandas as pd"
      ],
      "metadata": {
        "id": "1XcMQAlhnrbs"
      },
      "execution_count": null,
      "outputs": []
    },
    {
      "cell_type": "code",
      "source": [
        "df=pd.read_csv('/HDFCBANK.NS.csv')"
      ],
      "metadata": {
        "id": "odNX5Nj_n48V"
      },
      "execution_count": null,
      "outputs": []
    },
    {
      "cell_type": "code",
      "source": [
        "df.head()"
      ],
      "metadata": {
        "colab": {
          "base_uri": "https://localhost:8080/",
          "height": 206
        },
        "id": "g6fHUw6Tn--E",
        "outputId": "c026ef9c-b4ed-41d9-ee95-eca1c6963eea"
      },
      "execution_count": null,
      "outputs": [
        {
          "output_type": "execute_result",
          "data": {
            "text/plain": [
              "         Date         Open         High          Low        Close  \\\n",
              "0  2018-08-01  1081.400024  1087.500000  1029.125000  1030.599976   \n",
              "1  2018-09-01  1034.699951  1039.474976   955.099976  1003.025024   \n",
              "2  2018-10-01  1004.900024  1026.099976   942.500000   955.875000   \n",
              "3  2018-11-01   965.000000  1068.775024   948.000000  1064.224976   \n",
              "4  2018-12-01  1065.500000  1079.699951  1016.000000  1060.849976   \n",
              "\n",
              "     Adj Close     Volume  \n",
              "0   994.456116  102832700  \n",
              "1   967.848267  110860266  \n",
              "2   922.351868  165463186  \n",
              "3  1026.901855  137555020  \n",
              "4  1023.645203   94995760  "
            ],
            "text/html": [
              "\n",
              "\n",
              "  <div id=\"df-11ec13b1-10d0-471a-8851-07b96ff1d3de\">\n",
              "    <div class=\"colab-df-container\">\n",
              "      <div>\n",
              "<style scoped>\n",
              "    .dataframe tbody tr th:only-of-type {\n",
              "        vertical-align: middle;\n",
              "    }\n",
              "\n",
              "    .dataframe tbody tr th {\n",
              "        vertical-align: top;\n",
              "    }\n",
              "\n",
              "    .dataframe thead th {\n",
              "        text-align: right;\n",
              "    }\n",
              "</style>\n",
              "<table border=\"1\" class=\"dataframe\">\n",
              "  <thead>\n",
              "    <tr style=\"text-align: right;\">\n",
              "      <th></th>\n",
              "      <th>Date</th>\n",
              "      <th>Open</th>\n",
              "      <th>High</th>\n",
              "      <th>Low</th>\n",
              "      <th>Close</th>\n",
              "      <th>Adj Close</th>\n",
              "      <th>Volume</th>\n",
              "    </tr>\n",
              "  </thead>\n",
              "  <tbody>\n",
              "    <tr>\n",
              "      <th>0</th>\n",
              "      <td>2018-08-01</td>\n",
              "      <td>1081.400024</td>\n",
              "      <td>1087.500000</td>\n",
              "      <td>1029.125000</td>\n",
              "      <td>1030.599976</td>\n",
              "      <td>994.456116</td>\n",
              "      <td>102832700</td>\n",
              "    </tr>\n",
              "    <tr>\n",
              "      <th>1</th>\n",
              "      <td>2018-09-01</td>\n",
              "      <td>1034.699951</td>\n",
              "      <td>1039.474976</td>\n",
              "      <td>955.099976</td>\n",
              "      <td>1003.025024</td>\n",
              "      <td>967.848267</td>\n",
              "      <td>110860266</td>\n",
              "    </tr>\n",
              "    <tr>\n",
              "      <th>2</th>\n",
              "      <td>2018-10-01</td>\n",
              "      <td>1004.900024</td>\n",
              "      <td>1026.099976</td>\n",
              "      <td>942.500000</td>\n",
              "      <td>955.875000</td>\n",
              "      <td>922.351868</td>\n",
              "      <td>165463186</td>\n",
              "    </tr>\n",
              "    <tr>\n",
              "      <th>3</th>\n",
              "      <td>2018-11-01</td>\n",
              "      <td>965.000000</td>\n",
              "      <td>1068.775024</td>\n",
              "      <td>948.000000</td>\n",
              "      <td>1064.224976</td>\n",
              "      <td>1026.901855</td>\n",
              "      <td>137555020</td>\n",
              "    </tr>\n",
              "    <tr>\n",
              "      <th>4</th>\n",
              "      <td>2018-12-01</td>\n",
              "      <td>1065.500000</td>\n",
              "      <td>1079.699951</td>\n",
              "      <td>1016.000000</td>\n",
              "      <td>1060.849976</td>\n",
              "      <td>1023.645203</td>\n",
              "      <td>94995760</td>\n",
              "    </tr>\n",
              "  </tbody>\n",
              "</table>\n",
              "</div>\n",
              "      <button class=\"colab-df-convert\" onclick=\"convertToInteractive('df-11ec13b1-10d0-471a-8851-07b96ff1d3de')\"\n",
              "              title=\"Convert this dataframe to an interactive table.\"\n",
              "              style=\"display:none;\">\n",
              "\n",
              "  <svg xmlns=\"http://www.w3.org/2000/svg\" height=\"24px\"viewBox=\"0 0 24 24\"\n",
              "       width=\"24px\">\n",
              "    <path d=\"M0 0h24v24H0V0z\" fill=\"none\"/>\n",
              "    <path d=\"M18.56 5.44l.94 2.06.94-2.06 2.06-.94-2.06-.94-.94-2.06-.94 2.06-2.06.94zm-11 1L8.5 8.5l.94-2.06 2.06-.94-2.06-.94L8.5 2.5l-.94 2.06-2.06.94zm10 10l.94 2.06.94-2.06 2.06-.94-2.06-.94-.94-2.06-.94 2.06-2.06.94z\"/><path d=\"M17.41 7.96l-1.37-1.37c-.4-.4-.92-.59-1.43-.59-.52 0-1.04.2-1.43.59L10.3 9.45l-7.72 7.72c-.78.78-.78 2.05 0 2.83L4 21.41c.39.39.9.59 1.41.59.51 0 1.02-.2 1.41-.59l7.78-7.78 2.81-2.81c.8-.78.8-2.07 0-2.86zM5.41 20L4 18.59l7.72-7.72 1.47 1.35L5.41 20z\"/>\n",
              "  </svg>\n",
              "      </button>\n",
              "\n",
              "\n",
              "\n",
              "    <div id=\"df-f965d7ca-bde3-4698-98d4-1a59e8352729\">\n",
              "      <button class=\"colab-df-quickchart\" onclick=\"quickchart('df-f965d7ca-bde3-4698-98d4-1a59e8352729')\"\n",
              "              title=\"Suggest charts.\"\n",
              "              style=\"display:none;\">\n",
              "\n",
              "<svg xmlns=\"http://www.w3.org/2000/svg\" height=\"24px\"viewBox=\"0 0 24 24\"\n",
              "     width=\"24px\">\n",
              "    <g>\n",
              "        <path d=\"M19 3H5c-1.1 0-2 .9-2 2v14c0 1.1.9 2 2 2h14c1.1 0 2-.9 2-2V5c0-1.1-.9-2-2-2zM9 17H7v-7h2v7zm4 0h-2V7h2v10zm4 0h-2v-4h2v4z\"/>\n",
              "    </g>\n",
              "</svg>\n",
              "      </button>\n",
              "    </div>\n",
              "\n",
              "<style>\n",
              "  .colab-df-quickchart {\n",
              "    background-color: #E8F0FE;\n",
              "    border: none;\n",
              "    border-radius: 50%;\n",
              "    cursor: pointer;\n",
              "    display: none;\n",
              "    fill: #1967D2;\n",
              "    height: 32px;\n",
              "    padding: 0 0 0 0;\n",
              "    width: 32px;\n",
              "  }\n",
              "\n",
              "  .colab-df-quickchart:hover {\n",
              "    background-color: #E2EBFA;\n",
              "    box-shadow: 0px 1px 2px rgba(60, 64, 67, 0.3), 0px 1px 3px 1px rgba(60, 64, 67, 0.15);\n",
              "    fill: #174EA6;\n",
              "  }\n",
              "\n",
              "  [theme=dark] .colab-df-quickchart {\n",
              "    background-color: #3B4455;\n",
              "    fill: #D2E3FC;\n",
              "  }\n",
              "\n",
              "  [theme=dark] .colab-df-quickchart:hover {\n",
              "    background-color: #434B5C;\n",
              "    box-shadow: 0px 1px 3px 1px rgba(0, 0, 0, 0.15);\n",
              "    filter: drop-shadow(0px 1px 2px rgba(0, 0, 0, 0.3));\n",
              "    fill: #FFFFFF;\n",
              "  }\n",
              "</style>\n",
              "\n",
              "    <script>\n",
              "      async function quickchart(key) {\n",
              "        const containerElement = document.querySelector('#' + key);\n",
              "        const charts = await google.colab.kernel.invokeFunction(\n",
              "            'suggestCharts', [key], {});\n",
              "      }\n",
              "    </script>\n",
              "\n",
              "      <script>\n",
              "\n",
              "function displayQuickchartButton(domScope) {\n",
              "  let quickchartButtonEl =\n",
              "    domScope.querySelector('#df-f965d7ca-bde3-4698-98d4-1a59e8352729 button.colab-df-quickchart');\n",
              "  quickchartButtonEl.style.display =\n",
              "    google.colab.kernel.accessAllowed ? 'block' : 'none';\n",
              "}\n",
              "\n",
              "        displayQuickchartButton(document);\n",
              "      </script>\n",
              "      <style>\n",
              "    .colab-df-container {\n",
              "      display:flex;\n",
              "      flex-wrap:wrap;\n",
              "      gap: 12px;\n",
              "    }\n",
              "\n",
              "    .colab-df-convert {\n",
              "      background-color: #E8F0FE;\n",
              "      border: none;\n",
              "      border-radius: 50%;\n",
              "      cursor: pointer;\n",
              "      display: none;\n",
              "      fill: #1967D2;\n",
              "      height: 32px;\n",
              "      padding: 0 0 0 0;\n",
              "      width: 32px;\n",
              "    }\n",
              "\n",
              "    .colab-df-convert:hover {\n",
              "      background-color: #E2EBFA;\n",
              "      box-shadow: 0px 1px 2px rgba(60, 64, 67, 0.3), 0px 1px 3px 1px rgba(60, 64, 67, 0.15);\n",
              "      fill: #174EA6;\n",
              "    }\n",
              "\n",
              "    [theme=dark] .colab-df-convert {\n",
              "      background-color: #3B4455;\n",
              "      fill: #D2E3FC;\n",
              "    }\n",
              "\n",
              "    [theme=dark] .colab-df-convert:hover {\n",
              "      background-color: #434B5C;\n",
              "      box-shadow: 0px 1px 3px 1px rgba(0, 0, 0, 0.15);\n",
              "      filter: drop-shadow(0px 1px 2px rgba(0, 0, 0, 0.3));\n",
              "      fill: #FFFFFF;\n",
              "    }\n",
              "  </style>\n",
              "\n",
              "      <script>\n",
              "        const buttonEl =\n",
              "          document.querySelector('#df-11ec13b1-10d0-471a-8851-07b96ff1d3de button.colab-df-convert');\n",
              "        buttonEl.style.display =\n",
              "          google.colab.kernel.accessAllowed ? 'block' : 'none';\n",
              "\n",
              "        async function convertToInteractive(key) {\n",
              "          const element = document.querySelector('#df-11ec13b1-10d0-471a-8851-07b96ff1d3de');\n",
              "          const dataTable =\n",
              "            await google.colab.kernel.invokeFunction('convertToInteractive',\n",
              "                                                     [key], {});\n",
              "          if (!dataTable) return;\n",
              "\n",
              "          const docLinkHtml = 'Like what you see? Visit the ' +\n",
              "            '<a target=\"_blank\" href=https://colab.research.google.com/notebooks/data_table.ipynb>data table notebook</a>'\n",
              "            + ' to learn more about interactive tables.';\n",
              "          element.innerHTML = '';\n",
              "          dataTable['output_type'] = 'display_data';\n",
              "          await google.colab.output.renderOutput(dataTable, element);\n",
              "          const docLink = document.createElement('div');\n",
              "          docLink.innerHTML = docLinkHtml;\n",
              "          element.appendChild(docLink);\n",
              "        }\n",
              "      </script>\n",
              "    </div>\n",
              "  </div>\n"
            ]
          },
          "metadata": {},
          "execution_count": 57
        }
      ]
    },
    {
      "cell_type": "code",
      "source": [
        "df.tail()"
      ],
      "metadata": {
        "colab": {
          "base_uri": "https://localhost:8080/",
          "height": 206
        },
        "id": "p0QyvFlCoA9G",
        "outputId": "67ee4870-852d-4702-e467-2f4421cf01dd"
      },
      "execution_count": null,
      "outputs": [
        {
          "output_type": "execute_result",
          "data": {
            "text/plain": [
              "          Date         Open         High          Low        Close  \\\n",
              "55  2023-03-01  1612.000000  1645.949951  1532.050049  1609.550049   \n",
              "56  2023-04-01  1607.550049  1720.000000  1602.750000  1687.599976   \n",
              "57  2023-05-01  1687.599976  1734.449951  1597.349976  1610.849976   \n",
              "58  2023-06-01  1619.900024  1708.800049  1579.000000  1701.400024   \n",
              "59  2023-07-01  1712.500000  1757.500000  1627.150024  1690.699951   \n",
              "\n",
              "      Adj Close     Volume  \n",
              "55  1591.301147  281250547  \n",
              "56  1668.466187  296725881  \n",
              "57  1592.586304  385815045  \n",
              "58  1701.400024  275004627  \n",
              "59  1690.699951  396706199  "
            ],
            "text/html": [
              "\n",
              "\n",
              "  <div id=\"df-5f1df86e-ad3b-4841-b37d-bcb5c58e458f\">\n",
              "    <div class=\"colab-df-container\">\n",
              "      <div>\n",
              "<style scoped>\n",
              "    .dataframe tbody tr th:only-of-type {\n",
              "        vertical-align: middle;\n",
              "    }\n",
              "\n",
              "    .dataframe tbody tr th {\n",
              "        vertical-align: top;\n",
              "    }\n",
              "\n",
              "    .dataframe thead th {\n",
              "        text-align: right;\n",
              "    }\n",
              "</style>\n",
              "<table border=\"1\" class=\"dataframe\">\n",
              "  <thead>\n",
              "    <tr style=\"text-align: right;\">\n",
              "      <th></th>\n",
              "      <th>Date</th>\n",
              "      <th>Open</th>\n",
              "      <th>High</th>\n",
              "      <th>Low</th>\n",
              "      <th>Close</th>\n",
              "      <th>Adj Close</th>\n",
              "      <th>Volume</th>\n",
              "    </tr>\n",
              "  </thead>\n",
              "  <tbody>\n",
              "    <tr>\n",
              "      <th>55</th>\n",
              "      <td>2023-03-01</td>\n",
              "      <td>1612.000000</td>\n",
              "      <td>1645.949951</td>\n",
              "      <td>1532.050049</td>\n",
              "      <td>1609.550049</td>\n",
              "      <td>1591.301147</td>\n",
              "      <td>281250547</td>\n",
              "    </tr>\n",
              "    <tr>\n",
              "      <th>56</th>\n",
              "      <td>2023-04-01</td>\n",
              "      <td>1607.550049</td>\n",
              "      <td>1720.000000</td>\n",
              "      <td>1602.750000</td>\n",
              "      <td>1687.599976</td>\n",
              "      <td>1668.466187</td>\n",
              "      <td>296725881</td>\n",
              "    </tr>\n",
              "    <tr>\n",
              "      <th>57</th>\n",
              "      <td>2023-05-01</td>\n",
              "      <td>1687.599976</td>\n",
              "      <td>1734.449951</td>\n",
              "      <td>1597.349976</td>\n",
              "      <td>1610.849976</td>\n",
              "      <td>1592.586304</td>\n",
              "      <td>385815045</td>\n",
              "    </tr>\n",
              "    <tr>\n",
              "      <th>58</th>\n",
              "      <td>2023-06-01</td>\n",
              "      <td>1619.900024</td>\n",
              "      <td>1708.800049</td>\n",
              "      <td>1579.000000</td>\n",
              "      <td>1701.400024</td>\n",
              "      <td>1701.400024</td>\n",
              "      <td>275004627</td>\n",
              "    </tr>\n",
              "    <tr>\n",
              "      <th>59</th>\n",
              "      <td>2023-07-01</td>\n",
              "      <td>1712.500000</td>\n",
              "      <td>1757.500000</td>\n",
              "      <td>1627.150024</td>\n",
              "      <td>1690.699951</td>\n",
              "      <td>1690.699951</td>\n",
              "      <td>396706199</td>\n",
              "    </tr>\n",
              "  </tbody>\n",
              "</table>\n",
              "</div>\n",
              "      <button class=\"colab-df-convert\" onclick=\"convertToInteractive('df-5f1df86e-ad3b-4841-b37d-bcb5c58e458f')\"\n",
              "              title=\"Convert this dataframe to an interactive table.\"\n",
              "              style=\"display:none;\">\n",
              "\n",
              "  <svg xmlns=\"http://www.w3.org/2000/svg\" height=\"24px\"viewBox=\"0 0 24 24\"\n",
              "       width=\"24px\">\n",
              "    <path d=\"M0 0h24v24H0V0z\" fill=\"none\"/>\n",
              "    <path d=\"M18.56 5.44l.94 2.06.94-2.06 2.06-.94-2.06-.94-.94-2.06-.94 2.06-2.06.94zm-11 1L8.5 8.5l.94-2.06 2.06-.94-2.06-.94L8.5 2.5l-.94 2.06-2.06.94zm10 10l.94 2.06.94-2.06 2.06-.94-2.06-.94-.94-2.06-.94 2.06-2.06.94z\"/><path d=\"M17.41 7.96l-1.37-1.37c-.4-.4-.92-.59-1.43-.59-.52 0-1.04.2-1.43.59L10.3 9.45l-7.72 7.72c-.78.78-.78 2.05 0 2.83L4 21.41c.39.39.9.59 1.41.59.51 0 1.02-.2 1.41-.59l7.78-7.78 2.81-2.81c.8-.78.8-2.07 0-2.86zM5.41 20L4 18.59l7.72-7.72 1.47 1.35L5.41 20z\"/>\n",
              "  </svg>\n",
              "      </button>\n",
              "\n",
              "\n",
              "\n",
              "    <div id=\"df-95c4143e-322e-40f1-bb61-bfb6dade12df\">\n",
              "      <button class=\"colab-df-quickchart\" onclick=\"quickchart('df-95c4143e-322e-40f1-bb61-bfb6dade12df')\"\n",
              "              title=\"Suggest charts.\"\n",
              "              style=\"display:none;\">\n",
              "\n",
              "<svg xmlns=\"http://www.w3.org/2000/svg\" height=\"24px\"viewBox=\"0 0 24 24\"\n",
              "     width=\"24px\">\n",
              "    <g>\n",
              "        <path d=\"M19 3H5c-1.1 0-2 .9-2 2v14c0 1.1.9 2 2 2h14c1.1 0 2-.9 2-2V5c0-1.1-.9-2-2-2zM9 17H7v-7h2v7zm4 0h-2V7h2v10zm4 0h-2v-4h2v4z\"/>\n",
              "    </g>\n",
              "</svg>\n",
              "      </button>\n",
              "    </div>\n",
              "\n",
              "<style>\n",
              "  .colab-df-quickchart {\n",
              "    background-color: #E8F0FE;\n",
              "    border: none;\n",
              "    border-radius: 50%;\n",
              "    cursor: pointer;\n",
              "    display: none;\n",
              "    fill: #1967D2;\n",
              "    height: 32px;\n",
              "    padding: 0 0 0 0;\n",
              "    width: 32px;\n",
              "  }\n",
              "\n",
              "  .colab-df-quickchart:hover {\n",
              "    background-color: #E2EBFA;\n",
              "    box-shadow: 0px 1px 2px rgba(60, 64, 67, 0.3), 0px 1px 3px 1px rgba(60, 64, 67, 0.15);\n",
              "    fill: #174EA6;\n",
              "  }\n",
              "\n",
              "  [theme=dark] .colab-df-quickchart {\n",
              "    background-color: #3B4455;\n",
              "    fill: #D2E3FC;\n",
              "  }\n",
              "\n",
              "  [theme=dark] .colab-df-quickchart:hover {\n",
              "    background-color: #434B5C;\n",
              "    box-shadow: 0px 1px 3px 1px rgba(0, 0, 0, 0.15);\n",
              "    filter: drop-shadow(0px 1px 2px rgba(0, 0, 0, 0.3));\n",
              "    fill: #FFFFFF;\n",
              "  }\n",
              "</style>\n",
              "\n",
              "    <script>\n",
              "      async function quickchart(key) {\n",
              "        const containerElement = document.querySelector('#' + key);\n",
              "        const charts = await google.colab.kernel.invokeFunction(\n",
              "            'suggestCharts', [key], {});\n",
              "      }\n",
              "    </script>\n",
              "\n",
              "      <script>\n",
              "\n",
              "function displayQuickchartButton(domScope) {\n",
              "  let quickchartButtonEl =\n",
              "    domScope.querySelector('#df-95c4143e-322e-40f1-bb61-bfb6dade12df button.colab-df-quickchart');\n",
              "  quickchartButtonEl.style.display =\n",
              "    google.colab.kernel.accessAllowed ? 'block' : 'none';\n",
              "}\n",
              "\n",
              "        displayQuickchartButton(document);\n",
              "      </script>\n",
              "      <style>\n",
              "    .colab-df-container {\n",
              "      display:flex;\n",
              "      flex-wrap:wrap;\n",
              "      gap: 12px;\n",
              "    }\n",
              "\n",
              "    .colab-df-convert {\n",
              "      background-color: #E8F0FE;\n",
              "      border: none;\n",
              "      border-radius: 50%;\n",
              "      cursor: pointer;\n",
              "      display: none;\n",
              "      fill: #1967D2;\n",
              "      height: 32px;\n",
              "      padding: 0 0 0 0;\n",
              "      width: 32px;\n",
              "    }\n",
              "\n",
              "    .colab-df-convert:hover {\n",
              "      background-color: #E2EBFA;\n",
              "      box-shadow: 0px 1px 2px rgba(60, 64, 67, 0.3), 0px 1px 3px 1px rgba(60, 64, 67, 0.15);\n",
              "      fill: #174EA6;\n",
              "    }\n",
              "\n",
              "    [theme=dark] .colab-df-convert {\n",
              "      background-color: #3B4455;\n",
              "      fill: #D2E3FC;\n",
              "    }\n",
              "\n",
              "    [theme=dark] .colab-df-convert:hover {\n",
              "      background-color: #434B5C;\n",
              "      box-shadow: 0px 1px 3px 1px rgba(0, 0, 0, 0.15);\n",
              "      filter: drop-shadow(0px 1px 2px rgba(0, 0, 0, 0.3));\n",
              "      fill: #FFFFFF;\n",
              "    }\n",
              "  </style>\n",
              "\n",
              "      <script>\n",
              "        const buttonEl =\n",
              "          document.querySelector('#df-5f1df86e-ad3b-4841-b37d-bcb5c58e458f button.colab-df-convert');\n",
              "        buttonEl.style.display =\n",
              "          google.colab.kernel.accessAllowed ? 'block' : 'none';\n",
              "\n",
              "        async function convertToInteractive(key) {\n",
              "          const element = document.querySelector('#df-5f1df86e-ad3b-4841-b37d-bcb5c58e458f');\n",
              "          const dataTable =\n",
              "            await google.colab.kernel.invokeFunction('convertToInteractive',\n",
              "                                                     [key], {});\n",
              "          if (!dataTable) return;\n",
              "\n",
              "          const docLinkHtml = 'Like what you see? Visit the ' +\n",
              "            '<a target=\"_blank\" href=https://colab.research.google.com/notebooks/data_table.ipynb>data table notebook</a>'\n",
              "            + ' to learn more about interactive tables.';\n",
              "          element.innerHTML = '';\n",
              "          dataTable['output_type'] = 'display_data';\n",
              "          await google.colab.output.renderOutput(dataTable, element);\n",
              "          const docLink = document.createElement('div');\n",
              "          docLink.innerHTML = docLinkHtml;\n",
              "          element.appendChild(docLink);\n",
              "        }\n",
              "      </script>\n",
              "    </div>\n",
              "  </div>\n"
            ]
          },
          "metadata": {},
          "execution_count": 58
        }
      ]
    },
    {
      "cell_type": "code",
      "source": [
        "df1=df.reset_index()['Close']"
      ],
      "metadata": {
        "id": "-0m8QrpqoDFV"
      },
      "execution_count": null,
      "outputs": []
    },
    {
      "cell_type": "code",
      "source": [
        "import matplotlib.pyplot as plt\n",
        "plt.plot(df1)"
      ],
      "metadata": {
        "colab": {
          "base_uri": "https://localhost:8080/",
          "height": 448
        },
        "id": "0jZiSYFcoLUs",
        "outputId": "c2fc0e4a-f55c-4b5a-f1b5-0e60754cee75"
      },
      "execution_count": null,
      "outputs": [
        {
          "output_type": "execute_result",
          "data": {
            "text/plain": [
              "[<matplotlib.lines.Line2D at 0x798dd026ce50>]"
            ]
          },
          "metadata": {},
          "execution_count": 60
        },
        {
          "output_type": "display_data",
          "data": {
            "text/plain": [
              "<Figure size 640x480 with 1 Axes>"
            ],
            "image/png": "[encoded data removed]"
          },
          "metadata": {}
        }
      ]
    },
    {
      "cell_type": "code",
      "source": [
        "### LSTM are sensitive to the scale of the data. so using MinMax scaler\n",
        "import numpy as np"
      ],
      "metadata": {
        "id": "DLM5yVoDoQ1d"
      },
      "execution_count": null,
      "outputs": []
    },
    {
      "cell_type": "code",
      "source": [
        "### LSTM are sensitive to the scale of the data. so using MinMax scaler\n",
        "from sklearn.preprocessing import MinMaxScaler\n",
        "scaler=MinMaxScaler(feature_range=(0,1))\n",
        "df1=scaler.fit_transform(np.array(df1).reshape(-1,1))"
      ],
      "metadata": {
        "id": "fXtRVXiMoa_u"
      },
      "execution_count": null,
      "outputs": []
    },
    {
      "cell_type": "code",
      "source": [
        "print(df1)"
      ],
      "metadata": {
        "colab": {
          "base_uri": "https://localhost:8080/"
        },
        "id": "bfH_1mXfoinU",
        "outputId": "16ced2e5-1e5f-430c-fa6e-a7145c9d4b92"
      },
      "execution_count": null,
      "outputs": [
        {
          "output_type": "stream",
          "name": "stdout",
          "text": [
            "[[0.20095289]\n",
            " [0.16810602]\n",
            " [0.1119416 ]\n",
            " [0.24100649]\n",
            " [0.23698624]\n",
            " [0.21212025]\n",
            " [0.21069089]\n",
            " [0.35443708]\n",
            " [0.3535735 ]\n",
            " [0.41783803]\n",
            " [0.42879687]\n",
            " [0.31438347]\n",
            " [0.30026796]\n",
            " [0.43543767]\n",
            " [0.43889214]\n",
            " [0.49201897]\n",
            " [0.48862412]\n",
            " [0.43406793]\n",
            " [0.37611674]\n",
            " [0.        ]\n",
            " [0.16664677]\n",
            " [0.10690887]\n",
            " [0.24294217]\n",
            " [0.20357359]\n",
            " [0.30250143]\n",
            " [0.25812978]\n",
            " [0.38314476]\n",
            " [0.68963663]\n",
            " [0.68421683]\n",
            " [0.62966048]\n",
            " [0.80107207]\n",
            " [0.75253127]\n",
            " [0.65562838]\n",
            " [0.77897552]\n",
            " [0.75759381]\n",
            " [0.67248353]\n",
            " [0.85705777]\n",
            " [0.87319825]\n",
            " [0.85878493]\n",
            " [0.75241218]\n",
            " [0.73555688]\n",
            " [0.74306126]\n",
            " [0.67224536]\n",
            " [0.7247766 ]\n",
            " [0.62263246]\n",
            " [0.62781409]\n",
            " [0.57903511]\n",
            " [0.68171522]\n",
            " [0.74353776]\n",
            " [0.66640852]\n",
            " [0.7561643 ]\n",
            " [0.88927925]\n",
            " [0.91274568]\n",
            " [0.88338294]\n",
            " [0.87873729]\n",
            " [0.89058967]\n",
            " [0.98356159]\n",
            " [0.89213812]\n",
            " [1.        ]\n",
            " [0.98725423]]\n"
          ]
        }
      ]
    },
    {
      "cell_type": "code",
      "source": [
        "##splitting dataset into train and test split\n",
        "training_size=int(len(df1)*0.70)\n",
        "test_size=len(df1)-training_size\n",
        "train_data,test_data=df1[0:training_size,:],df1[training_size:len(df1),:1]"
      ],
      "metadata": {
        "id": "P9I-90x-p_7j"
      },
      "execution_count": null,
      "outputs": []
    },
    {
      "cell_type": "code",
      "source": [
        "import numpy\n",
        "# convert an array of values into a dataset matrix\n",
        "def create_dataset(dataset, time_step=1):\n",
        "\tdataX, dataY = [], []\n",
        "\tfor i in range(len(dataset)-time_step-1):\n",
        "\t\ta = dataset[i:(i+time_step), 0]   ###i=0, 0,1,2,3-----99   100\n",
        "\t\tdataX.append(a)\n",
        "\t\tdataY.append(dataset[i + time_step, 0])\n",
        "\treturn numpy.array(dataX), numpy.array(dataY)"
      ],
      "metadata": {
        "id": "EHsesLXHqH76"
      },
      "execution_count": null,
      "outputs": []
    },
    {
      "cell_type": "code",
      "source": [
        "# reshape into X=t,t+1,t+2,t+3 and Y=t+4\n",
        "time_step = 5\n",
        "X_train, y_train = create_dataset(train_data, time_step)\n",
        "X_test, ytest = create_dataset(test_data, time_step)"
      ],
      "metadata": {
        "id": "Di6DGB3vqb1a"
      },
      "execution_count": null,
      "outputs": []
    },
    {
      "cell_type": "code",
      "source": [
        "print(X_train.shape), print(y_train.shape)"
      ],
      "metadata": {
        "colab": {
          "base_uri": "https://localhost:8080/"
        },
        "id": "9-o58RgqxkGG",
        "outputId": "c42c4263-6942-42e3-b867-9c101bea30aa"
      },
      "execution_count": null,
      "outputs": [
        {
          "output_type": "stream",
          "name": "stdout",
          "text": [
            "(36, 5)\n",
            "(36,)\n"
          ]
        },
        {
          "output_type": "execute_result",
          "data": {
            "text/plain": [
              "(None, None)"
            ]
          },
          "metadata": {},
          "execution_count": 67
        }
      ]
    },
    {
      "cell_type": "code",
      "source": [
        "print(X_test.shape), print(ytest.shape)\n"
      ],
      "metadata": {
        "colab": {
          "base_uri": "https://localhost:8080/"
        },
        "id": "Uwt5LtHwyLWE",
        "outputId": "93ec8bf9-b572-4cda-baa5-030f7cb299ac"
      },
      "execution_count": null,
      "outputs": [
        {
          "output_type": "stream",
          "name": "stdout",
          "text": [
            "(12, 5)\n",
            "(12,)\n"
          ]
        },
        {
          "output_type": "execute_result",
          "data": {
            "text/plain": [
              "(None, None)"
            ]
          },
          "metadata": {},
          "execution_count": 68
        }
      ]
    },
    {
      "cell_type": "code",
      "source": [
        "# reshape input to be [samples, time steps, features] which is required for LSTM\n",
        "X_train =X_train.reshape(X_train.shape[0],X_train.shape[1] , 1)\n",
        "X_test = X_test.reshape(X_test.shape[0],X_test.shape[1] , 1)"
      ],
      "metadata": {
        "id": "0uzfELh1yRsp"
      },
      "execution_count": null,
      "outputs": []
    },
    {
      "cell_type": "code",
      "source": [
        "print(X_train)"
      ],
      "metadata": {
        "colab": {
          "base_uri": "https://localhost:8080/"
        },
        "id": "f4NrpkoI1Yko",
        "outputId": "30797f82-1070-4a2f-afea-1d1259f651ac"
      },
      "execution_count": null,
      "outputs": [
        {
          "output_type": "stream",
          "name": "stdout",
          "text": [
            "[[[0.20095289]\n",
            "  [0.16810602]\n",
            "  [0.1119416 ]\n",
            "  [0.24100649]\n",
            "  [0.23698624]]\n",
            "\n",
            " [[0.16810602]\n",
            "  [0.1119416 ]\n",
            "  [0.24100649]\n",
            "  [0.23698624]\n",
            "  [0.21212025]]\n",
            "\n",
            " [[0.1119416 ]\n",
            "  [0.24100649]\n",
            "  [0.23698624]\n",
            "  [0.21212025]\n",
            "  [0.21069089]]\n",
            "\n",
            " [[0.24100649]\n",
            "  [0.23698624]\n",
            "  [0.21212025]\n",
            "  [0.21069089]\n",
            "  [0.35443708]]\n",
            "\n",
            " [[0.23698624]\n",
            "  [0.21212025]\n",
            "  [0.21069089]\n",
            "  [0.35443708]\n",
            "  [0.3535735 ]]\n",
            "\n",
            " [[0.21212025]\n",
            "  [0.21069089]\n",
            "  [0.35443708]\n",
            "  [0.3535735 ]\n",
            "  [0.41783803]]\n",
            "\n",
            " [[0.21069089]\n",
            "  [0.35443708]\n",
            "  [0.3535735 ]\n",
            "  [0.41783803]\n",
            "  [0.42879687]]\n",
            "\n",
            " [[0.35443708]\n",
            "  [0.3535735 ]\n",
            "  [0.41783803]\n",
            "  [0.42879687]\n",
            "  [0.31438347]]\n",
            "\n",
            " [[0.3535735 ]\n",
            "  [0.41783803]\n",
            "  [0.42879687]\n",
            "  [0.31438347]\n",
            "  [0.30026796]]\n",
            "\n",
            " [[0.41783803]\n",
            "  [0.42879687]\n",
            "  [0.31438347]\n",
            "  [0.30026796]\n",
            "  [0.43543767]]\n",
            "\n",
            " [[0.42879687]\n",
            "  [0.31438347]\n",
            "  [0.30026796]\n",
            "  [0.43543767]\n",
            "  [0.43889214]]\n",
            "\n",
            " [[0.31438347]\n",
            "  [0.30026796]\n",
            "  [0.43543767]\n",
            "  [0.43889214]\n",
            "  [0.49201897]]\n",
            "\n",
            " [[0.30026796]\n",
            "  [0.43543767]\n",
            "  [0.43889214]\n",
            "  [0.49201897]\n",
            "  [0.48862412]]\n",
            "\n",
            " [[0.43543767]\n",
            "  [0.43889214]\n",
            "  [0.49201897]\n",
            "  [0.48862412]\n",
            "  [0.43406793]]\n",
            "\n",
            " [[0.43889214]\n",
            "  [0.49201897]\n",
            "  [0.48862412]\n",
            "  [0.43406793]\n",
            "  [0.37611674]]\n",
            "\n",
            " [[0.49201897]\n",
            "  [0.48862412]\n",
            "  [0.43406793]\n",
            "  [0.37611674]\n",
            "  [0.        ]]\n",
            "\n",
            " [[0.48862412]\n",
            "  [0.43406793]\n",
            "  [0.37611674]\n",
            "  [0.        ]\n",
            "  [0.16664677]]\n",
            "\n",
            " [[0.43406793]\n",
            "  [0.37611674]\n",
            "  [0.        ]\n",
            "  [0.16664677]\n",
            "  [0.10690887]]\n",
            "\n",
            " [[0.37611674]\n",
            "  [0.        ]\n",
            "  [0.16664677]\n",
            "  [0.10690887]\n",
            "  [0.24294217]]\n",
            "\n",
            " [[0.        ]\n",
            "  [0.16664677]\n",
            "  [0.10690887]\n",
            "  [0.24294217]\n",
            "  [0.20357359]]\n",
            "\n",
            " [[0.16664677]\n",
            "  [0.10690887]\n",
            "  [0.24294217]\n",
            "  [0.20357359]\n",
            "  [0.30250143]]\n",
            "\n",
            " [[0.10690887]\n",
            "  [0.24294217]\n",
            "  [0.20357359]\n",
            "  [0.30250143]\n",
            "  [0.25812978]]\n",
            "\n",
            " [[0.24294217]\n",
            "  [0.20357359]\n",
            "  [0.30250143]\n",
            "  [0.25812978]\n",
            "  [0.38314476]]\n",
            "\n",
            " [[0.20357359]\n",
            "  [0.30250143]\n",
            "  [0.25812978]\n",
            "  [0.38314476]\n",
            "  [0.68963663]]\n",
            "\n",
            " [[0.30250143]\n",
            "  [0.25812978]\n",
            "  [0.38314476]\n",
            "  [0.68963663]\n",
            "  [0.68421683]]\n",
            "\n",
            " [[0.25812978]\n",
            "  [0.38314476]\n",
            "  [0.68963663]\n",
            "  [0.68421683]\n",
            "  [0.62966048]]\n",
            "\n",
            " [[0.38314476]\n",
            "  [0.68963663]\n",
            "  [0.68421683]\n",
            "  [0.62966048]\n",
            "  [0.80107207]]\n",
            "\n",
            " [[0.68963663]\n",
            "  [0.68421683]\n",
            "  [0.62966048]\n",
            "  [0.80107207]\n",
            "  [0.75253127]]\n",
            "\n",
            " [[0.68421683]\n",
            "  [0.62966048]\n",
            "  [0.80107207]\n",
            "  [0.75253127]\n",
            "  [0.65562838]]\n",
            "\n",
            " [[0.62966048]\n",
            "  [0.80107207]\n",
            "  [0.75253127]\n",
            "  [0.65562838]\n",
            "  [0.77897552]]\n",
            "\n",
            " [[0.80107207]\n",
            "  [0.75253127]\n",
            "  [0.65562838]\n",
            "  [0.77897552]\n",
            "  [0.75759381]]\n",
            "\n",
            " [[0.75253127]\n",
            "  [0.65562838]\n",
            "  [0.77897552]\n",
            "  [0.75759381]\n",
            "  [0.67248353]]\n",
            "\n",
            " [[0.65562838]\n",
            "  [0.77897552]\n",
            "  [0.75759381]\n",
            "  [0.67248353]\n",
            "  [0.85705777]]\n",
            "\n",
            " [[0.77897552]\n",
            "  [0.75759381]\n",
            "  [0.67248353]\n",
            "  [0.85705777]\n",
            "  [0.87319825]]\n",
            "\n",
            " [[0.75759381]\n",
            "  [0.67248353]\n",
            "  [0.85705777]\n",
            "  [0.87319825]\n",
            "  [0.85878493]]\n",
            "\n",
            " [[0.67248353]\n",
            "  [0.85705777]\n",
            "  [0.87319825]\n",
            "  [0.85878493]\n",
            "  [0.75241218]]]\n"
          ]
        }
      ]
    },
    {
      "cell_type": "code",
      "source": [
        "from tensorflow.keras.models import Sequential\n",
        "from tensorflow.keras.layers import Dense\n",
        "from tensorflow.keras.layers import LSTM"
      ],
      "metadata": {
        "id": "IXUOZI1g10zC"
      },
      "execution_count": null,
      "outputs": []
    },
    {
      "cell_type": "code",
      "source": [
        "model=Sequential()\n",
        "model.add(LSTM(50,return_sequences=True,input_shape=(5,1)))\n",
        "model.add(LSTM(50,return_sequences=True))\n",
        "model.add(LSTM(50))\n",
        "model.add(Dense(1))\n",
        "model.compile(loss='mean_squared_error',optimizer='adam')\n"
      ],
      "metadata": {
        "id": "Q6nOUTX215KY"
      },
      "execution_count": null,
      "outputs": []
    },
    {
      "cell_type": "code",
      "source": [
        "model.summary()"
      ],
      "metadata": {
        "colab": {
          "base_uri": "https://localhost:8080/"
        },
        "id": "QntK73hL18ZJ",
        "outputId": "98364f59-962b-4a4a-ddfd-7b302a0e9301"
      },
      "execution_count": null,
      "outputs": [
        {
          "output_type": "stream",
          "name": "stdout",
          "text": [
            "Model: \"sequential_3\"\n",
            "_________________________________________________________________\n",
            " Layer (type)                Output Shape              Param #   \n",
            "=================================================================\n",
            " lstm_9 (LSTM)               (None, 5, 50)             10400     \n",
            "                                                                 \n",
            " lstm_10 (LSTM)              (None, 5, 50)             20200     \n",
            "                                                                 \n",
            " lstm_11 (LSTM)              (None, 50)                20200     \n",
            "                                                                 \n",
            " dense_3 (Dense)             (None, 1)                 51        \n",
            "                                                                 \n",
            "=================================================================\n",
            "Total params: 50,851\n",
            "Trainable params: 50,851\n",
            "Non-trainable params: 0\n",
            "_________________________________________________________________\n"
          ]
        }
      ]
    },
    {
      "cell_type": "code",
      "source": [
        "\n",
        "model.fit(\n",
        "    X_train,                   # Training data features (input data)\n",
        "    y_train,                   # Training data labels (output data)\n",
        "    validation_data=(X_test, ytest),  # Validation data (features and labels)\n",
        "    epochs=100,                # Number of training epochs (iterations)\n",
        "    batch_size=64,             # Number of samples processed before updating the model weights\n",
        "    verbose=1                  # Verbosity level (0 = silent, 1 = progress bar, 2 = one line per epoch)\n",
        ")"
      ],
      "metadata": {
        "colab": {
          "base_uri": "https://localhost:8080/"
        },
        "id": "CRO9VzE72B85",
        "outputId": "9d08b2eb-6c99-475c-8a1c-1ab309ac8c7e"
      },
      "execution_count": null,
      "outputs": [
        {
          "output_type": "stream",
          "name": "stdout",
          "text": [
            "Epoch 1/100\n",
            "1/1 [==============================] - 9s 9s/step - loss: 0.2916 - val_loss: 0.6910\n",
            "Epoch 2/100\n",
            "1/1 [==============================] - 0s 73ms/step - loss: 0.2727 - val_loss: 0.6507\n",
            "Epoch 3/100\n",
            "1/1 [==============================] - 0s 53ms/step - loss: 0.2540 - val_loss: 0.6098\n",
            "Epoch 4/100\n",
            "1/1 [==============================] - 0s 53ms/step - loss: 0.2353 - val_loss: 0.5676\n",
            "Epoch 5/100\n",
            "1/1 [==============================] - 0s 52ms/step - loss: 0.2163 - val_loss: 0.5238\n",
            "Epoch 6/100\n",
            "1/1 [==============================] - 0s 53ms/step - loss: 0.1969 - val_loss: 0.4781\n",
            "Epoch 7/100\n",
            "1/1 [==============================] - 0s 56ms/step - loss: 0.1770 - val_loss: 0.4303\n",
            "Epoch 8/100\n",
            "1/1 [==============================] - 0s 57ms/step - loss: 0.1567 - val_loss: 0.3802\n",
            "Epoch 9/100\n",
            "1/1 [==============================] - 0s 54ms/step - loss: 0.1360 - val_loss: 0.3280\n",
            "Epoch 10/100\n",
            "1/1 [==============================] - 0s 53ms/step - loss: 0.1153 - val_loss: 0.2741\n",
            "Epoch 11/100\n",
            "1/1 [==============================] - 0s 53ms/step - loss: 0.0950 - val_loss: 0.2193\n",
            "Epoch 12/100\n",
            "1/1 [==============================] - 0s 60ms/step - loss: 0.0757 - val_loss: 0.1651\n",
            "Epoch 13/100\n",
            "1/1 [==============================] - 0s 79ms/step - loss: 0.0584 - val_loss: 0.1137\n",
            "Epoch 14/100\n",
            "1/1 [==============================] - 0s 61ms/step - loss: 0.0445 - val_loss: 0.0683\n",
            "Epoch 15/100\n",
            "1/1 [==============================] - 0s 56ms/step - loss: 0.0358 - val_loss: 0.0331\n",
            "Epoch 16/100\n",
            "1/1 [==============================] - 0s 57ms/step - loss: 0.0341 - val_loss: 0.0120\n",
            "Epoch 17/100\n",
            "1/1 [==============================] - 0s 57ms/step - loss: 0.0399 - val_loss: 0.0048\n",
            "Epoch 18/100\n",
            "1/1 [==============================] - 0s 54ms/step - loss: 0.0502 - val_loss: 0.0049\n",
            "Epoch 19/100\n",
            "1/1 [==============================] - 0s 66ms/step - loss: 0.0584 - val_loss: 0.0053\n",
            "Epoch 20/100\n",
            "1/1 [==============================] - 0s 68ms/step - loss: 0.0605 - val_loss: 0.0047\n",
            "Epoch 21/100\n",
            "1/1 [==============================] - 0s 57ms/step - loss: 0.0570 - val_loss: 0.0048\n",
            "Epoch 22/100\n",
            "1/1 [==============================] - 0s 57ms/step - loss: 0.0504 - val_loss: 0.0078\n",
            "Epoch 23/100\n",
            "1/1 [==============================] - 0s 55ms/step - loss: 0.0435 - val_loss: 0.0149\n",
            "Epoch 24/100\n",
            "1/1 [==============================] - 0s 63ms/step - loss: 0.0380 - val_loss: 0.0255\n",
            "Epoch 25/100\n",
            "1/1 [==============================] - 0s 56ms/step - loss: 0.0348 - val_loss: 0.0385\n",
            "Epoch 26/100\n",
            "1/1 [==============================] - 0s 61ms/step - loss: 0.0335 - val_loss: 0.0521\n",
            "Epoch 27/100\n",
            "1/1 [==============================] - 0s 55ms/step - loss: 0.0339 - val_loss: 0.0651\n",
            "Epoch 28/100\n",
            "1/1 [==============================] - 0s 60ms/step - loss: 0.0351 - val_loss: 0.0761\n",
            "Epoch 29/100\n",
            "1/1 [==============================] - 0s 58ms/step - loss: 0.0367 - val_loss: 0.0846\n",
            "Epoch 30/100\n",
            "1/1 [==============================] - 0s 57ms/step - loss: 0.0382 - val_loss: 0.0900\n",
            "Epoch 31/100\n",
            "1/1 [==============================] - 0s 56ms/step - loss: 0.0392 - val_loss: 0.0923\n",
            "Epoch 32/100\n",
            "1/1 [==============================] - 0s 58ms/step - loss: 0.0397 - val_loss: 0.0916\n",
            "Epoch 33/100\n",
            "1/1 [==============================] - 0s 55ms/step - loss: 0.0396 - val_loss: 0.0883\n",
            "Epoch 34/100\n",
            "1/1 [==============================] - 0s 61ms/step - loss: 0.0389 - val_loss: 0.0828\n",
            "Epoch 35/100\n",
            "1/1 [==============================] - 0s 70ms/step - loss: 0.0379 - val_loss: 0.0756\n",
            "Epoch 36/100\n",
            "1/1 [==============================] - 0s 57ms/step - loss: 0.0365 - val_loss: 0.0672\n",
            "Epoch 37/100\n",
            "1/1 [==============================] - 0s 54ms/step - loss: 0.0351 - val_loss: 0.0581\n",
            "Epoch 38/100\n",
            "1/1 [==============================] - 0s 56ms/step - loss: 0.0339 - val_loss: 0.0491\n",
            "Epoch 39/100\n",
            "1/1 [==============================] - 0s 61ms/step - loss: 0.0328 - val_loss: 0.0406\n",
            "Epoch 40/100\n",
            "1/1 [==============================] - 0s 54ms/step - loss: 0.0322 - val_loss: 0.0331\n",
            "Epoch 41/100\n",
            "1/1 [==============================] - 0s 56ms/step - loss: 0.0320 - val_loss: 0.0269\n",
            "Epoch 42/100\n",
            "1/1 [==============================] - 0s 57ms/step - loss: 0.0321 - val_loss: 0.0221\n",
            "Epoch 43/100\n",
            "1/1 [==============================] - 0s 55ms/step - loss: 0.0324 - val_loss: 0.0187\n",
            "Epoch 44/100\n",
            "1/1 [==============================] - 0s 59ms/step - loss: 0.0328 - val_loss: 0.0166\n",
            "Epoch 45/100\n",
            "1/1 [==============================] - 0s 65ms/step - loss: 0.0331 - val_loss: 0.0156\n",
            "Epoch 46/100\n",
            "1/1 [==============================] - 0s 55ms/step - loss: 0.0331 - val_loss: 0.0157\n",
            "Epoch 47/100\n",
            "1/1 [==============================] - 0s 55ms/step - loss: 0.0328 - val_loss: 0.0166\n",
            "Epoch 48/100\n",
            "1/1 [==============================] - 0s 58ms/step - loss: 0.0323 - val_loss: 0.0183\n",
            "Epoch 49/100\n",
            "1/1 [==============================] - 0s 60ms/step - loss: 0.0317 - val_loss: 0.0207\n",
            "Epoch 50/100\n",
            "1/1 [==============================] - 0s 52ms/step - loss: 0.0312 - val_loss: 0.0235\n",
            "Epoch 51/100\n",
            "1/1 [==============================] - 0s 71ms/step - loss: 0.0307 - val_loss: 0.0265\n",
            "Epoch 52/100\n",
            "1/1 [==============================] - 0s 65ms/step - loss: 0.0304 - val_loss: 0.0294\n",
            "Epoch 53/100\n",
            "1/1 [==============================] - 0s 52ms/step - loss: 0.0303 - val_loss: 0.0320\n",
            "Epoch 54/100\n",
            "1/1 [==============================] - 0s 51ms/step - loss: 0.0303 - val_loss: 0.0339\n",
            "Epoch 55/100\n",
            "1/1 [==============================] - 0s 52ms/step - loss: 0.0303 - val_loss: 0.0350\n",
            "Epoch 56/100\n",
            "1/1 [==============================] - 0s 50ms/step - loss: 0.0303 - val_loss: 0.0352\n",
            "Epoch 57/100\n",
            "1/1 [==============================] - 0s 58ms/step - loss: 0.0303 - val_loss: 0.0345\n",
            "Epoch 58/100\n",
            "1/1 [==============================] - 0s 54ms/step - loss: 0.0302 - val_loss: 0.0329\n",
            "Epoch 59/100\n",
            "1/1 [==============================] - 0s 63ms/step - loss: 0.0300 - val_loss: 0.0307\n",
            "Epoch 60/100\n",
            "1/1 [==============================] - 0s 54ms/step - loss: 0.0297 - val_loss: 0.0280\n",
            "Epoch 61/100\n",
            "1/1 [==============================] - 0s 57ms/step - loss: 0.0295 - val_loss: 0.0252\n",
            "Epoch 62/100\n",
            "1/1 [==============================] - 0s 53ms/step - loss: 0.0292 - val_loss: 0.0223\n",
            "Epoch 63/100\n",
            "1/1 [==============================] - 0s 55ms/step - loss: 0.0290 - val_loss: 0.0197\n",
            "Epoch 64/100\n",
            "1/1 [==============================] - 0s 52ms/step - loss: 0.0289 - val_loss: 0.0174\n",
            "Epoch 65/100\n",
            "1/1 [==============================] - 0s 54ms/step - loss: 0.0289 - val_loss: 0.0156\n",
            "Epoch 66/100\n",
            "1/1 [==============================] - 0s 54ms/step - loss: 0.0288 - val_loss: 0.0144\n",
            "Epoch 67/100\n",
            "1/1 [==============================] - 0s 52ms/step - loss: 0.0288 - val_loss: 0.0136\n",
            "Epoch 68/100\n",
            "1/1 [==============================] - 0s 71ms/step - loss: 0.0287 - val_loss: 0.0133\n",
            "Epoch 69/100\n",
            "1/1 [==============================] - 0s 55ms/step - loss: 0.0287 - val_loss: 0.0133\n",
            "Epoch 70/100\n",
            "1/1 [==============================] - 0s 54ms/step - loss: 0.0285 - val_loss: 0.0137\n",
            "Epoch 71/100\n",
            "1/1 [==============================] - 0s 53ms/step - loss: 0.0284 - val_loss: 0.0144\n",
            "Epoch 72/100\n",
            "1/1 [==============================] - 0s 61ms/step - loss: 0.0283 - val_loss: 0.0151\n",
            "Epoch 73/100\n",
            "1/1 [==============================] - 0s 55ms/step - loss: 0.0282 - val_loss: 0.0159\n",
            "Epoch 74/100\n",
            "1/1 [==============================] - 0s 52ms/step - loss: 0.0281 - val_loss: 0.0166\n",
            "Epoch 75/100\n",
            "1/1 [==============================] - 0s 52ms/step - loss: 0.0281 - val_loss: 0.0170\n",
            "Epoch 76/100\n",
            "1/1 [==============================] - 0s 58ms/step - loss: 0.0281 - val_loss: 0.0172\n",
            "Epoch 77/100\n",
            "1/1 [==============================] - 0s 55ms/step - loss: 0.0280 - val_loss: 0.0170\n",
            "Epoch 78/100\n",
            "1/1 [==============================] - 0s 58ms/step - loss: 0.0280 - val_loss: 0.0165\n",
            "Epoch 79/100\n",
            "1/1 [==============================] - 0s 55ms/step - loss: 0.0279 - val_loss: 0.0158\n",
            "Epoch 80/100\n",
            "1/1 [==============================] - 0s 51ms/step - loss: 0.0279 - val_loss: 0.0149\n",
            "Epoch 81/100\n",
            "1/1 [==============================] - 0s 61ms/step - loss: 0.0278 - val_loss: 0.0139\n",
            "Epoch 82/100\n",
            "1/1 [==============================] - 0s 51ms/step - loss: 0.0278 - val_loss: 0.0130\n",
            "Epoch 83/100\n",
            "1/1 [==============================] - 0s 57ms/step - loss: 0.0277 - val_loss: 0.0121\n",
            "Epoch 84/100\n",
            "1/1 [==============================] - 0s 56ms/step - loss: 0.0277 - val_loss: 0.0114\n",
            "Epoch 85/100\n",
            "1/1 [==============================] - 0s 62ms/step - loss: 0.0277 - val_loss: 0.0109\n",
            "Epoch 86/100\n",
            "1/1 [==============================] - 0s 51ms/step - loss: 0.0277 - val_loss: 0.0106\n",
            "Epoch 87/100\n",
            "1/1 [==============================] - 0s 52ms/step - loss: 0.0277 - val_loss: 0.0105\n",
            "Epoch 88/100\n",
            "1/1 [==============================] - 0s 55ms/step - loss: 0.0276 - val_loss: 0.0106\n",
            "Epoch 89/100\n",
            "1/1 [==============================] - 0s 55ms/step - loss: 0.0276 - val_loss: 0.0108\n",
            "Epoch 90/100\n",
            "1/1 [==============================] - 0s 69ms/step - loss: 0.0276 - val_loss: 0.0111\n",
            "Epoch 91/100\n",
            "1/1 [==============================] - 0s 80ms/step - loss: 0.0275 - val_loss: 0.0114\n",
            "Epoch 92/100\n",
            "1/1 [==============================] - 0s 93ms/step - loss: 0.0275 - val_loss: 0.0117\n",
            "Epoch 93/100\n",
            "1/1 [==============================] - 0s 86ms/step - loss: 0.0275 - val_loss: 0.0119\n",
            "Epoch 94/100\n",
            "1/1 [==============================] - 0s 80ms/step - loss: 0.0275 - val_loss: 0.0120\n",
            "Epoch 95/100\n",
            "1/1 [==============================] - 0s 97ms/step - loss: 0.0275 - val_loss: 0.0120\n",
            "Epoch 96/100\n",
            "1/1 [==============================] - 0s 91ms/step - loss: 0.0274 - val_loss: 0.0118\n",
            "Epoch 97/100\n",
            "1/1 [==============================] - 0s 87ms/step - loss: 0.0274 - val_loss: 0.0116\n",
            "Epoch 98/100\n",
            "1/1 [==============================] - 0s 83ms/step - loss: 0.0274 - val_loss: 0.0112\n",
            "Epoch 99/100\n",
            "1/1 [==============================] - 0s 69ms/step - loss: 0.0274 - val_loss: 0.0109\n",
            "Epoch 100/100\n",
            "1/1 [==============================] - 0s 88ms/step - loss: 0.0273 - val_loss: 0.0106\n"
          ]
        },
        {
          "output_type": "execute_result",
          "data": {
            "text/plain": [
              "<keras.callbacks.History at 0x798dca64bd00>"
            ]
          },
          "metadata": {},
          "execution_count": 77
        }
      ]
    },
    {
      "cell_type": "code",
      "source": [
        "import tensorflow as tf"
      ],
      "metadata": {
        "id": "2nlqPtOx4f-n"
      },
      "execution_count": null,
      "outputs": []
    },
    {
      "cell_type": "code",
      "source": [
        "train_predict=model.predict(X_train)\n",
        "test_predict=model.predict(X_test)"
      ],
      "metadata": {
        "colab": {
          "base_uri": "https://localhost:8080/"
        },
        "id": "JvE4yYVh4iqJ",
        "outputId": "0116e5ae-8015-4744-9ba5-e73de4f1ccd5"
      },
      "execution_count": null,
      "outputs": [
        {
          "output_type": "stream",
          "name": "stdout",
          "text": [
            "2/2 [==============================] - 1s 9ms/step\n",
            "1/1 [==============================] - 0s 25ms/step\n"
          ]
        }
      ]
    },
    {
      "cell_type": "code",
      "source": [
        "##Transformback to original form\n",
        "train_predict=scaler.inverse_transform(train_predict)\n",
        "test_predict=scaler.inverse_transform(test_predict)"
      ],
      "metadata": {
        "id": "1vPMAIuf4mr8"
      },
      "execution_count": null,
      "outputs": []
    },
    {
      "cell_type": "code",
      "source": [
        "### Calculate RMSE performance metrics\n",
        "import math\n",
        "from sklearn.metrics import mean_squared_error\n",
        "math.sqrt(mean_squared_error(y_train,train_predict))"
      ],
      "metadata": {
        "colab": {
          "base_uri": "https://localhost:8080/"
        },
        "id": "m5lauEIN4pMa",
        "outputId": "0d9c89bb-a1b1-4d67-9d74-981d3139ccaa"
      },
      "execution_count": null,
      "outputs": [
        {
          "output_type": "execute_result",
          "data": {
            "text/plain": [
              "1274.9664330043797"
            ]
          },
          "metadata": {},
          "execution_count": 81
        }
      ]
    },
    {
      "cell_type": "code",
      "source": [
        "math.sqrt(mean_squared_error(ytest,test_predict))\n"
      ],
      "metadata": {
        "colab": {
          "base_uri": "https://localhost:8080/"
        },
        "id": "nqqEI5NV4tph",
        "outputId": "4320c990-7a95-41a5-ec6e-30d5f35c1981"
      },
      "execution_count": null,
      "outputs": [
        {
          "output_type": "execute_result",
          "data": {
            "text/plain": [
              "1508.431329563552"
            ]
          },
          "metadata": {},
          "execution_count": 82
        }
      ]
    },
    {
      "cell_type": "code",
      "source": [
        "### Plotting\n",
        "# shift train predictions for plotting\n",
        "look_back=5\n",
        "trainPredictPlot = numpy.empty_like(df1)\n",
        "trainPredictPlot[:, :] = np.nan\n",
        "trainPredictPlot[look_back:len(train_predict)+look_back, :] = train_predict\n",
        "# shift test predictions for plotting\n",
        "testPredictPlot = numpy.empty_like(df1)\n",
        "testPredictPlot[:, :] = numpy.nan\n",
        "testPredictPlot[len(train_predict)+(look_back*2)+1:len(df1)-1, :] = test_predict\n",
        "# plot baseline and predictions\n",
        "plt.plot(scaler.inverse_transform(df1))\n",
        "plt.plot(trainPredictPlot)\n",
        "plt.plot(testPredictPlot)\n",
        "plt.show()"
      ],
      "metadata": {
        "colab": {
          "base_uri": "https://localhost:8080/",
          "height": 430
        },
        "id": "Zfl0TTjD4w_h",
        "outputId": "efe37a2b-0581-4454-b825-4116a4d6ef1b"
      },
      "execution_count": null,
      "outputs": [
        {
          "output_type": "display_data",
          "data": {
            "text/plain": [
              "<Figure size 640x480 with 1 Axes>"
            ],
            "image/png": "[encoded data removed]"
          },
          "metadata": {}
        }
      ]
    }
  ]
}